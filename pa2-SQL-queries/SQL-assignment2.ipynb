{
 "cells": [
  {
   "cell_type": "markdown",
   "metadata": {},
   "source": [
    "Programming Assignment 2 -SQL for Data Science \n",
    "=======\n",
    "\n",
    "\n",
    "### Instructions / Notes:\n",
    "\n",
    "**_Read these carefully_**\n",
    "\n",
    "* **IMPORTANT**: In your terminal run `pip install --user --upgrade ipython-sql`. This will install the necessary sql packages for Jupyter notebook.\n",
    "* Run the cell below to load the database `assignment2.db` (make sure the actual database file, `assignment2.db`, is in the same directory as this IPython notebook is running in)\n",
    "* Some of the problems involve _changing_ this database (e.g. deleting rows)- you can always re-download `assignment2.db` or make a copy if you want to start fresh!\n",
    "* You **may** create new IPython notebook cells to use for e.g. testing, debugging, exploring, etc.- this is encouraged in fact!- **just make sure that your final answer for each question is _in its own cell_ and _clearly indicated_**\n",
    "* When you see `In [*]:` to the left of the cell you are executing, this means that the code / query is _running_.\n",
    "    * **If the cell is hanging- i.e. running for too long: To restart the SQL connection, you must restart the entire python kernel**\n",
    "    * To restart kernel using the menu bar: \"Kernel >> Restart >> Clear all outputs & restart\"), then re-execute the sql connection cell at top\n",
    "    * You will also need to restart the connection if you want to load a different version of the database file\n",
    "* Remember:\n",
    "    * `%sql [SQL]` is for _single line_ SQL queries\n",
    "    * `%%sql [SQL]` is for _multi line_ SQL queries\n",
    "* _Have fun!_"
   ]
  },
  {
   "cell_type": "code",
   "execution_count": 47,
   "metadata": {},
   "outputs": [
    {
     "name": "stdout",
     "output_type": "stream",
     "text": [
      "The sql extension is already loaded. To reload it, use:\n",
      "  %reload_ext sql\n"
     ]
    }
   ],
   "source": [
    "# Connect to the database.\n",
    "%load_ext sql\n",
    "%sql sqlite:///assignment2.db"
   ]
  },
  {
   "cell_type": "markdown",
   "metadata": {},
   "source": [
    "Problem 1: Matrix Manipulations\n",
    "------------------------\n",
    "\n",
    "Two random 3x3 ($N=3$) matrices have been provided in tables `A` and `B`, having the following schema:\n",
    "> * `i INT`:   Row index\n",
    "> * `j INT`:   Column index\n",
    "> * `val INT`: Cell value\n",
    "\n",
    "**Note: all of your answers below _must_ work for any _square_ matrix sizes, i.e. any value of $N$**.\n",
    "\n",
    "Note how the matrices are represented- why do we choose this format?  Run the following queries to see the matrices in a nice format:"
   ]
  },
  {
   "cell_type": "code",
   "execution_count": 48,
   "metadata": {},
   "outputs": [
    {
     "name": "stdout",
     "output_type": "stream",
     "text": [
      " * sqlite:///assignment2.db\n",
      "Done.\n"
     ]
    },
    {
     "data": {
      "text/html": [
       "<table>\n",
       "    <tr>\n",
       "        <th>A</th>\n",
       "    </tr>\n",
       "    <tr>\n",
       "        <td>7 , 5 , 8</td>\n",
       "    </tr>\n",
       "    <tr>\n",
       "        <td>10 , 7 , 7</td>\n",
       "    </tr>\n",
       "    <tr>\n",
       "        <td>2 , 0 , 5</td>\n",
       "    </tr>\n",
       "</table>"
      ],
      "text/plain": [
       "[('7 , 5 , 8',), ('10 , 7 , 7',), ('2 , 0 , 5',)]"
      ]
     },
     "execution_count": 48,
     "metadata": {},
     "output_type": "execute_result"
    }
   ],
   "source": [
    "%sql SELECT group_concat(val, \" , \") AS \"A\" FROM A GROUP BY i;"
   ]
  },
  {
   "cell_type": "code",
   "execution_count": 3,
   "metadata": {},
   "outputs": [
    {
     "name": "stdout",
     "output_type": "stream",
     "text": [
      " * sqlite:///assignment2.db\n",
      "Done.\n"
     ]
    },
    {
     "data": {
      "text/html": [
       "<table>\n",
       "    <tr>\n",
       "        <th>B</th>\n",
       "    </tr>\n",
       "    <tr>\n",
       "        <td>9 , 6 , 10</td>\n",
       "    </tr>\n",
       "    <tr>\n",
       "        <td>7 , 6 , 9</td>\n",
       "    </tr>\n",
       "    <tr>\n",
       "        <td>1 , 1 , 7</td>\n",
       "    </tr>\n",
       "</table>"
      ],
      "text/plain": [
       "[('9 , 6 , 10',), ('7 , 6 , 9',), ('1 , 1 , 7',)]"
      ]
     },
     "execution_count": 3,
     "metadata": {},
     "output_type": "execute_result"
    }
   ],
   "source": [
    "%sql SELECT group_concat(val, \" , \") AS \"B\" FROM B GROUP BY i;"
   ]
  },
  {
   "cell_type": "markdown",
   "metadata": {},
   "source": [
    "### Part (a): Elementwise multiplication [5 points]\n",
    "\n",
    "We want the _elementwise multiply_ of matrices A and B. That is,\n",
    "$(A\\cdot B)_{ij} = A_{ij}B_{ij}$ for all $i,j$.\n",
    "\n",
    "Write a _single SQL query_ that performs this operation (in the same format as $A$- output tuples should be of format `(i,j,val)` where `i` is row, `j` is column, and the output is ordered by row then column index)\n",
    "\n",
    "Write your query here:"
   ]
  },
  {
   "cell_type": "code",
   "execution_count": 50,
   "metadata": {},
   "outputs": [
    {
     "name": "stdout",
     "output_type": "stream",
     "text": [
      " * sqlite:///assignment2.db\n",
      "Done.\n"
     ]
    },
    {
     "data": {
      "text/html": [
       "<table>\n",
       "    <tr>\n",
       "        <th>i</th>\n",
       "        <th>j</th>\n",
       "        <th>result</th>\n",
       "    </tr>\n",
       "    <tr>\n",
       "        <td>0</td>\n",
       "        <td>0</td>\n",
       "        <td>63</td>\n",
       "    </tr>\n",
       "    <tr>\n",
       "        <td>0</td>\n",
       "        <td>1</td>\n",
       "        <td>30</td>\n",
       "    </tr>\n",
       "    <tr>\n",
       "        <td>0</td>\n",
       "        <td>2</td>\n",
       "        <td>80</td>\n",
       "    </tr>\n",
       "    <tr>\n",
       "        <td>1</td>\n",
       "        <td>0</td>\n",
       "        <td>70</td>\n",
       "    </tr>\n",
       "    <tr>\n",
       "        <td>1</td>\n",
       "        <td>1</td>\n",
       "        <td>42</td>\n",
       "    </tr>\n",
       "    <tr>\n",
       "        <td>1</td>\n",
       "        <td>2</td>\n",
       "        <td>63</td>\n",
       "    </tr>\n",
       "    <tr>\n",
       "        <td>2</td>\n",
       "        <td>0</td>\n",
       "        <td>2</td>\n",
       "    </tr>\n",
       "    <tr>\n",
       "        <td>2</td>\n",
       "        <td>1</td>\n",
       "        <td>0</td>\n",
       "    </tr>\n",
       "    <tr>\n",
       "        <td>2</td>\n",
       "        <td>2</td>\n",
       "        <td>35</td>\n",
       "    </tr>\n",
       "</table>"
      ],
      "text/plain": [
       "[(0, 0, 63),\n",
       " (0, 1, 30),\n",
       " (0, 2, 80),\n",
       " (1, 0, 70),\n",
       " (1, 1, 42),\n",
       " (1, 2, 63),\n",
       " (2, 0, 2),\n",
       " (2, 1, 0),\n",
       " (2, 2, 35)]"
      ]
     },
     "execution_count": 50,
     "metadata": {},
     "output_type": "execute_result"
    }
   ],
   "source": [
    "%%sql\n",
    "SELECT A.i, B.j, (A.val * B.val) AS result\n",
    "  FROM A, B\n",
    " WHERE A.i = B.i and A.j= B.j\n",
    " GROUP BY A.i, B.j;"
   ]
  },
  {
   "cell_type": "code",
   "execution_count": 4,
   "metadata": {},
   "outputs": [
    {
     "data": {
      "text/plain": [
       "\"\\nExpected output below- don't re-evaluate this cell!\\n\\nNOTE: A valid answer must work for ALL inputs of the given type,\\nnot just this example.  I.e. do not hardcode around this answer / etc!\\n\""
      ]
     },
     "execution_count": 4,
     "metadata": {},
     "output_type": "execute_result"
    }
   ],
   "source": [
    "\"\"\"\n",
    "Expected output below- don't re-evaluate this cell!\n",
    "\n",
    "NOTE: A valid answer must work for ALL inputs of the given type,\n",
    "not just this example.  I.e. do not hardcode around this answer / etc!\n",
    "\"\"\""
   ]
  },
  {
   "cell_type": "markdown",
   "metadata": {},
   "source": [
    "### Part (b): Permutations [5 points]\n",
    "\n",
    "A _permutation_ is a mapping from a set of integers to itself, i.e. $\\pi:[n] \\rightarrow [n]$, where $[n]$ denotes the set $\\{0,\\ldots, n-1\\}$.\n",
    "\n",
    "We write\n",
    "$$\n",
    "    \\pi([a_1, a_2, \\ldots, a_n]) \n",
    "    = [a_{\\pi(1)},a_{\\pi(2)}, \\ldots a_{\\pi(n)} ]\n",
    "$$\n",
    "\n",
    "The provided table $c$ contains a permutation on $[3]$."
   ]
  },
  {
   "cell_type": "code",
   "execution_count": 5,
   "metadata": {},
   "outputs": [
    {
     "name": "stdout",
     "output_type": "stream",
     "text": [
      " * sqlite:///assignment2.db\n",
      "Done.\n"
     ]
    },
    {
     "data": {
      "text/html": [
       "<table>\n",
       "    <tr>\n",
       "        <th>ind</th>\n",
       "        <th>pi</th>\n",
       "    </tr>\n",
       "    <tr>\n",
       "        <td>0</td>\n",
       "        <td>1</td>\n",
       "    </tr>\n",
       "    <tr>\n",
       "        <td>1</td>\n",
       "        <td>2</td>\n",
       "    </tr>\n",
       "    <tr>\n",
       "        <td>2</td>\n",
       "        <td>0</td>\n",
       "    </tr>\n",
       "</table>"
      ],
      "text/plain": [
       "[(0, 1), (1, 2), (2, 0)]"
      ]
     },
     "execution_count": 5,
     "metadata": {},
     "output_type": "execute_result"
    }
   ],
   "source": [
    "%sql SELECT * FROM c;"
   ]
  },
  {
   "cell_type": "markdown",
   "metadata": {},
   "source": [
    "Write a _single SQL query_ that permutes the rows of matrix $A$ according to the permutation stored in $c$.\n",
    "\n",
    "$$\n",
    "(i,j,A_{ij}) \\rightarrow (i,j,A_{\\pi(i)j})\n",
    "$$\n",
    "\n",
    "For the example provided, this means a single-step cyclic upward shift, however your code needs to work for any input $A,c$ of the right dimensions.\n",
    "\n",
    "Write your query here:"
   ]
  },
  {
   "cell_type": "code",
   "execution_count": 6,
   "metadata": {},
   "outputs": [
    {
     "name": "stdout",
     "output_type": "stream",
     "text": [
      " * sqlite:///assignment2.db\n",
      "Done.\n"
     ]
    },
    {
     "data": {
      "text/html": [
       "<table>\n",
       "    <tr>\n",
       "        <th>pi</th>\n",
       "        <th>j</th>\n",
       "        <th>value</th>\n",
       "    </tr>\n",
       "    <tr>\n",
       "        <td>0</td>\n",
       "        <td>0</td>\n",
       "        <td>2</td>\n",
       "    </tr>\n",
       "    <tr>\n",
       "        <td>0</td>\n",
       "        <td>1</td>\n",
       "        <td>0</td>\n",
       "    </tr>\n",
       "    <tr>\n",
       "        <td>0</td>\n",
       "        <td>2</td>\n",
       "        <td>5</td>\n",
       "    </tr>\n",
       "    <tr>\n",
       "        <td>1</td>\n",
       "        <td>0</td>\n",
       "        <td>7</td>\n",
       "    </tr>\n",
       "    <tr>\n",
       "        <td>1</td>\n",
       "        <td>1</td>\n",
       "        <td>5</td>\n",
       "    </tr>\n",
       "    <tr>\n",
       "        <td>1</td>\n",
       "        <td>2</td>\n",
       "        <td>8</td>\n",
       "    </tr>\n",
       "    <tr>\n",
       "        <td>2</td>\n",
       "        <td>0</td>\n",
       "        <td>10</td>\n",
       "    </tr>\n",
       "    <tr>\n",
       "        <td>2</td>\n",
       "        <td>1</td>\n",
       "        <td>7</td>\n",
       "    </tr>\n",
       "    <tr>\n",
       "        <td>2</td>\n",
       "        <td>2</td>\n",
       "        <td>7</td>\n",
       "    </tr>\n",
       "</table>"
      ],
      "text/plain": [
       "[(0, 0, 2),\n",
       " (0, 1, 0),\n",
       " (0, 2, 5),\n",
       " (1, 0, 7),\n",
       " (1, 1, 5),\n",
       " (1, 2, 8),\n",
       " (2, 0, 10),\n",
       " (2, 1, 7),\n",
       " (2, 2, 7)]"
      ]
     },
     "execution_count": 6,
     "metadata": {},
     "output_type": "execute_result"
    }
   ],
   "source": [
    "%%sql\n",
    "SELECT c.pi, A.j, A.val AS value\n",
    "FROM A, c\n",
    "WHERE A.i = c.ind\n",
    "ORDER BY c.pi;"
   ]
  },
  {
   "cell_type": "code",
   "execution_count": 6,
   "metadata": {},
   "outputs": [
    {
     "data": {
      "text/plain": [
       "\"\\nExpected output below- don't re-evaluate this cell!\\n\\nNOTE: A valid answer must work for ALL inputs of the given type,\\nnot just this example.  I.e. do not hardcode around this answer / etc!\\n\""
      ]
     },
     "execution_count": 6,
     "metadata": {},
     "output_type": "execute_result"
    }
   ],
   "source": [
    "\"\"\"\n",
    "Expected output below- don't re-evaluate this cell!\n",
    "\n",
    "NOTE: A valid answer must work for ALL inputs of the given type,\n",
    "not just this example.  I.e. do not hardcode around this answer / etc!\n",
    "\"\"\""
   ]
  },
  {
   "cell_type": "markdown",
   "metadata": {},
   "source": [
    "### Part (c): Composability of permutations [8 points]\n",
    "\n",
    "A known property of permutations, is that they are closed under composition. This implies that applying two permutations in succession is equivalent to applying a different, single permutation.\n",
    "$$\n",
    "    \\pi_2(\\pi_1([a_1, a_2, \\ldots, a_n]))\n",
    "    = [a_{\\pi(1)},a_{\\pi(2)}, \\ldots a_{\\pi(n)} ]\n",
    "$$\n",
    "where $\\pi(i) = \\pi_2(\\pi_1(i))$.\n",
    "\n",
    "Write a _single SQL query_ that applies the permuation in table $c$ twice on the rows of matrix $A$.\n",
    "\n",
    "$$\n",
    "(i,j,A_{ij}) \\rightarrow (i,j,A_{\\pi(\\pi(i))j})\n",
    "$$\n",
    "\n",
    "For the example provided, this means a two-step cyclic upward shift, however your code needs to work for any input $A,c$ of the right dimensions.\n",
    "\n",
    "Write your query here:"
   ]
  },
  {
   "cell_type": "code",
   "execution_count": 7,
   "metadata": {},
   "outputs": [
    {
     "name": "stdout",
     "output_type": "stream",
     "text": [
      " * sqlite:///assignment2.db\n",
      "Done.\n"
     ]
    },
    {
     "data": {
      "text/html": [
       "<table>\n",
       "    <tr>\n",
       "        <th>pi</th>\n",
       "        <th>j</th>\n",
       "        <th>value</th>\n",
       "    </tr>\n",
       "    <tr>\n",
       "        <td>0</td>\n",
       "        <td>0</td>\n",
       "        <td>10</td>\n",
       "    </tr>\n",
       "    <tr>\n",
       "        <td>0</td>\n",
       "        <td>1</td>\n",
       "        <td>7</td>\n",
       "    </tr>\n",
       "    <tr>\n",
       "        <td>0</td>\n",
       "        <td>2</td>\n",
       "        <td>7</td>\n",
       "    </tr>\n",
       "    <tr>\n",
       "        <td>1</td>\n",
       "        <td>0</td>\n",
       "        <td>2</td>\n",
       "    </tr>\n",
       "    <tr>\n",
       "        <td>1</td>\n",
       "        <td>1</td>\n",
       "        <td>0</td>\n",
       "    </tr>\n",
       "    <tr>\n",
       "        <td>1</td>\n",
       "        <td>2</td>\n",
       "        <td>5</td>\n",
       "    </tr>\n",
       "    <tr>\n",
       "        <td>2</td>\n",
       "        <td>0</td>\n",
       "        <td>7</td>\n",
       "    </tr>\n",
       "    <tr>\n",
       "        <td>2</td>\n",
       "        <td>1</td>\n",
       "        <td>5</td>\n",
       "    </tr>\n",
       "    <tr>\n",
       "        <td>2</td>\n",
       "        <td>2</td>\n",
       "        <td>8</td>\n",
       "    </tr>\n",
       "</table>"
      ],
      "text/plain": [
       "[(0, 0, 10),\n",
       " (0, 1, 7),\n",
       " (0, 2, 7),\n",
       " (1, 0, 2),\n",
       " (1, 1, 0),\n",
       " (1, 2, 5),\n",
       " (2, 0, 7),\n",
       " (2, 1, 5),\n",
       " (2, 2, 8)]"
      ]
     },
     "execution_count": 7,
     "metadata": {},
     "output_type": "execute_result"
    }
   ],
   "source": [
    "%%sql\n",
    "SELECT DISTINCT  c.pi, A2.j, A2.value\n",
    "FROM (SELECT c.pi, A.j, A.val AS value\n",
    "      FROM A, c\n",
    "      WHERE A.i = c.ind\n",
    "      ORDER BY c.pi) A2, c\n",
    "WHERE A2.pi=c.ind\n",
    "ORDER BY c.pi;"
   ]
  },
  {
   "cell_type": "markdown",
   "metadata": {},
   "source": [
    "### \"\"\"\n",
    "Expected output below- don't re-evaluate this cell!\n",
    "\n",
    "NOTE: A valid answer must work for ALL inputs of the given type,\n",
    "not just this example.  I.e. do not hardcode around this answer / etc!\n",
    "\"\"\""
   ]
  },
  {
   "cell_type": "markdown",
   "metadata": {},
   "source": [
    "### Part (d): Local maximum [12 points]\n",
    "\n",
    "Consider the _local maximum_ matrix function, \n",
    "$MAX:\\mathbb{R}^{n,n} \\rightarrow \\mathbb{R}^{n,n}$:\n",
    "\n",
    "$$\n",
    "    MAX(A)_{ij} = \\max \\{ A_{ij} \\textrm{ and cells up, down, left, right }\\}\n",
    "$$\n",
    "\n",
    "that is, if\n",
    "\n",
    "$$A=\\begin{bmatrix}a & b & c\\\\ d & e & f\\\\ g & h & i\\end{bmatrix}$$\n",
    "\n",
    "then\n",
    "\n",
    "$$\n",
    "    MAX(A)_{00} = \\max \\{ a,b,d \\},\n",
    "$$\n",
    "\n",
    "$$\n",
    "    MAX(A)_{01} = \\max \\{ a,d,g,e \\},\n",
    "$$\n",
    "\n",
    "and\n",
    "\n",
    "$$\n",
    "    MAX(A)_{11} = \\max \\{ d,b,e,h,f \\}.\n",
    "$$\n",
    "\n",
    "Write a _single SQL query_ that computes the local maximum of matrix $A$.\n",
    "\n",
    "Write your query here:"
   ]
  },
  {
   "cell_type": "code",
   "execution_count": 8,
   "metadata": {},
   "outputs": [
    {
     "name": "stdout",
     "output_type": "stream",
     "text": [
      " * sqlite:///assignment2.db\n",
      "Done.\n"
     ]
    },
    {
     "data": {
      "text/html": [
       "<table>\n",
       "    <tr>\n",
       "        <th>i</th>\n",
       "        <th>j</th>\n",
       "        <th>local_max</th>\n",
       "    </tr>\n",
       "    <tr>\n",
       "        <td>0</td>\n",
       "        <td>0</td>\n",
       "        <td>10</td>\n",
       "    </tr>\n",
       "    <tr>\n",
       "        <td>0</td>\n",
       "        <td>1</td>\n",
       "        <td>8</td>\n",
       "    </tr>\n",
       "    <tr>\n",
       "        <td>0</td>\n",
       "        <td>2</td>\n",
       "        <td>8</td>\n",
       "    </tr>\n",
       "    <tr>\n",
       "        <td>1</td>\n",
       "        <td>0</td>\n",
       "        <td>10</td>\n",
       "    </tr>\n",
       "    <tr>\n",
       "        <td>1</td>\n",
       "        <td>1</td>\n",
       "        <td>10</td>\n",
       "    </tr>\n",
       "    <tr>\n",
       "        <td>1</td>\n",
       "        <td>2</td>\n",
       "        <td>8</td>\n",
       "    </tr>\n",
       "    <tr>\n",
       "        <td>2</td>\n",
       "        <td>0</td>\n",
       "        <td>10</td>\n",
       "    </tr>\n",
       "    <tr>\n",
       "        <td>2</td>\n",
       "        <td>1</td>\n",
       "        <td>7</td>\n",
       "    </tr>\n",
       "    <tr>\n",
       "        <td>2</td>\n",
       "        <td>2</td>\n",
       "        <td>7</td>\n",
       "    </tr>\n",
       "</table>"
      ],
      "text/plain": [
       "[(0, 0, 10),\n",
       " (0, 1, 8),\n",
       " (0, 2, 8),\n",
       " (1, 0, 10),\n",
       " (1, 1, 10),\n",
       " (1, 2, 8),\n",
       " (2, 0, 10),\n",
       " (2, 1, 7),\n",
       " (2, 2, 7)]"
      ]
     },
     "execution_count": 8,
     "metadata": {},
     "output_type": "execute_result"
    }
   ],
   "source": [
    "%%sql\n",
    "SELECT A.i, A.j, MAX(A2.val) AS local_max FROM\n",
    "A, A AS A2\n",
    "WHERE (A.i=A2.i AND A.j=A2.j) OR ((A.i=A2.i) AND ((A.j=A2.j+1) OR (A.j=A2.j-1))) OR \n",
    "((A.j=A2.j) AND ((A.i=A2.i+1) OR (A.i=A2.i-1)))\n",
    "GROUP BY A.i, A.j;"
   ]
  },
  {
   "cell_type": "code",
   "execution_count": 9,
   "metadata": {},
   "outputs": [
    {
     "data": {
      "text/plain": [
       "\"\\nExpected output below- don't re-evaluate this cell!\\n\\nNOTE: A valid answer must work for ALL inputs of the given type,\\nnot just this example.  I.e. do not hardcode around this answer / etc!\\n\""
      ]
     },
     "execution_count": 9,
     "metadata": {},
     "output_type": "execute_result"
    }
   ],
   "source": [
    "\"\"\"\n",
    "Expected output below- don't re-evaluate this cell!\n",
    "\n",
    "NOTE: A valid answer must work for ALL inputs of the given type,\n",
    "not just this example.  I.e. do not hardcode around this answer / etc!\n",
    "\"\"\""
   ]
  },
  {
   "cell_type": "markdown",
   "metadata": {},
   "source": [
    "Problem 2: U.S. Sustainable Energy Sources\n",
    "----------------------------------------------\n",
    "\n",
    "We've prepared and loaded a public dataset from the US DOE (Department of Energy) of sustainable energy production in MWh (megawatt hours, i.e., 1000 [kilowatt hours](https://en.wikipedia.org/wiki/Kilowatt_hour)). This data is from 2009, the latest year available.  The data includes each state, the region of the United States it is in, and its production in MWh of sustainable energy by source (solar, wind, hydroelectric, and nuclear). The table `energy` has the following schema:\n",
    "```\n",
    "TABLE energy (\n",
    "    state varchar(30),\n",
    "    region varchar(30),\n",
    "    solar float,\n",
    "    wind float,\n",
    "    hydro float,\n",
    "    nuclear float)\n",
    "```"
   ]
  },
  {
   "cell_type": "code",
   "execution_count": 9,
   "metadata": {},
   "outputs": [
    {
     "name": "stdout",
     "output_type": "stream",
     "text": [
      " * sqlite:///assignment2.db\n",
      "Done.\n"
     ]
    },
    {
     "data": {
      "text/html": [
       "<table>\n",
       "    <tr>\n",
       "        <th>state</th>\n",
       "        <th>region</th>\n",
       "        <th>solar</th>\n",
       "        <th>wind</th>\n",
       "        <th>hydro</th>\n",
       "        <th>nuclear</th>\n",
       "    </tr>\n",
       "    <tr>\n",
       "        <td>Alabama</td>\n",
       "        <td>Southeast</td>\n",
       "        <td>0.0</td>\n",
       "        <td>0.0</td>\n",
       "        <td>11753493.37</td>\n",
       "        <td>39716204.0</td>\n",
       "    </tr>\n",
       "    <tr>\n",
       "        <td>Alaska</td>\n",
       "        <td>Alaska</td>\n",
       "        <td>0.0</td>\n",
       "        <td>3062.442</td>\n",
       "        <td>1204550.392</td>\n",
       "        <td>0.0</td>\n",
       "    </tr>\n",
       "    <tr>\n",
       "        <td>Arizona</td>\n",
       "        <td>West</td>\n",
       "        <td>13759.445</td>\n",
       "        <td>9555.0</td>\n",
       "        <td>6348462.992</td>\n",
       "        <td>30661851.0</td>\n",
       "    </tr>\n",
       "</table>"
      ],
      "text/plain": [
       "[('Alabama', 'Southeast', 0.0, 0.0, 11753493.37, 39716204.0),\n",
       " ('Alaska', 'Alaska', 0.0, 3062.442, 1204550.392, 0.0),\n",
       " ('Arizona', 'West', 13759.445, 9555.0, 6348462.992, 30661851.0)]"
      ]
     },
     "execution_count": 9,
     "metadata": {},
     "output_type": "execute_result"
    }
   ],
   "source": [
    "%sql SELECT * FROM energy LIMIT 3;"
   ]
  },
  {
   "cell_type": "markdown",
   "metadata": {},
   "source": [
    "### Part (a): Regional Champions [10 points]\n",
    "\n",
    "Using a _single SQL query_, find all of the regions in the United States with a state in it that is the leading producer of one of the four types of energy (solar, wind, hydro, and nuclear), and return the counts of how many state winners they had in descending order. **Do not include any regions with no state winners.**\n",
    "\n",
    "Further requirements:\n",
    "* Use `GROUP BY`\n",
    "* Write the shortest possible SQL query to accomplish this\n",
    "* Return relation `(region, num_state_winners)`\n",
    "\n",
    "Write your query here:"
   ]
  },
  {
   "cell_type": "code",
   "execution_count": 10,
   "metadata": {},
   "outputs": [
    {
     "name": "stdout",
     "output_type": "stream",
     "text": [
      " * sqlite:///assignment2.db\n",
      "Done.\n"
     ]
    },
    {
     "data": {
      "text/html": [
       "<table>\n",
       "    <tr>\n",
       "        <th>region</th>\n",
       "        <th>winners</th>\n",
       "    </tr>\n",
       "    <tr>\n",
       "        <td>West</td>\n",
       "        <td>2</td>\n",
       "    </tr>\n",
       "    <tr>\n",
       "        <td>Southeast</td>\n",
       "        <td>1</td>\n",
       "    </tr>\n",
       "    <tr>\n",
       "        <td>Midwest</td>\n",
       "        <td>1</td>\n",
       "    </tr>\n",
       "</table>"
      ],
      "text/plain": [
       "[('West', 2), ('Southeast', 1), ('Midwest', 1)]"
      ]
     },
     "execution_count": 10,
     "metadata": {},
     "output_type": "execute_result"
    }
   ],
   "source": [
    "%%sql \n",
    "SELECT energy.region, COUNT(DISTINCT energy.state) AS winners\n",
    "FROM energy\n",
    "WHERE energy.wind = (SELECT MAX(energy.wind) FROM energy) OR energy.solar = (SELECT MAX(energy.solar) FROM energy)\n",
    "OR energy.hydro = (SELECT MAX(energy.hydro) FROM energy) OR energy.nuclear = (SELECT MAX(energy.nuclear) FROM energy)\n",
    "GROUP BY energy.region\n",
    "ORDER BY energy.region DESC;"
   ]
  },
  {
   "cell_type": "markdown",
   "metadata": {},
   "source": [
    "### \"\"\"\n",
    "Expected output below- don't re-evaluate this cell!\n",
    "\n",
    "NOTE: A valid answer must work for ALL inputs of the given type,\n",
    "not just this example.  I.e. do not hardcode around this answer / etc!\n",
    "\"\"\""
   ]
  },
  {
   "cell_type": "markdown",
   "metadata": {},
   "source": [
    "### Part (b): Pareto Frontiers [10 points]\n",
    "\n",
    "Solar power and wind power [tend to be complementary](https://en.wikipedia.org/wiki/Wind_power#Variability), since it tends to be less windy when there are few clouds and the sun can best reach solar panels.\n",
    "\n",
    "Our goal in this part is to identify states that strike the best balance between solar and wind energy production. Here we define a state as \"best\" if it exists on the [Pareto frontier](https://en.wikipedia.org/wiki/Pareto_efficiency#Formal_representation) of solar and wind energy production. In other words, a state is Pareto optimal if no other state produces **both more solar and more wind energy**, and the Pareto frontier is the set of states that are Pareto optimal.\n",
    "\n",
    "Write a query that returns the entire Pareto frontier. Results should be triples of the form `(state, solar, wind)`, where `state` is the name of the state in the frotier, and `solar` and `wind` are its solar and wind energy production in MWh. Order the results in descending order by sum total of solar and wind energy production in MWh."
   ]
  },
  {
   "cell_type": "markdown",
   "metadata": {},
   "source": [
    "Write your query here:"
   ]
  },
  {
   "cell_type": "code",
   "execution_count": 46,
   "metadata": {},
   "outputs": [
    {
     "name": "stdout",
     "output_type": "stream",
     "text": [
      " * sqlite:///assignment2.db\n",
      "Done.\n"
     ]
    },
    {
     "data": {
      "text/html": [
       "<table>\n",
       "    <tr>\n",
       "        <th>state</th>\n",
       "        <th>solar</th>\n",
       "        <th>wind</th>\n",
       "        <th>SUM</th>\n",
       "    </tr>\n",
       "    <tr>\n",
       "        <td>Texas</td>\n",
       "        <td>0.0</td>\n",
       "        <td>19367238.86</td>\n",
       "        <td>19367238.86</td>\n",
       "    </tr>\n",
       "    <tr>\n",
       "        <td>Iowa</td>\n",
       "        <td>0.0</td>\n",
       "        <td>7331390.872</td>\n",
       "        <td>7331390.872</td>\n",
       "    </tr>\n",
       "    <tr>\n",
       "        <td>California</td>\n",
       "        <td>611763.387</td>\n",
       "        <td>5764637.309</td>\n",
       "        <td>6376400.696</td>\n",
       "    </tr>\n",
       "</table>"
      ],
      "text/plain": [
       "[('Texas', 0.0, 19367238.86, 19367238.86),\n",
       " ('Iowa', 0.0, 7331390.872, 7331390.872),\n",
       " ('California', 611763.387, 5764637.309, 6376400.696)]"
      ]
     },
     "execution_count": 46,
     "metadata": {},
     "output_type": "execute_result"
    }
   ],
   "source": [
    "%%sql\n",
    "SELECT energy.state, energy.solar, energy.wind, (energy.solar+energy.wind)AS SUM\n",
    "FROM energy\n",
    "WHERE NOT EXISTS \n",
    "(SELECT * \n",
    "FROM energy AS e2\n",
    "WHERE energy.solar<e2.solar AND energy.wind<e2.wind)\n",
    "ORDER BY SUM DESC;"
   ]
  },
  {
   "cell_type": "code",
   "execution_count": 12,
   "metadata": {},
   "outputs": [
    {
     "data": {
      "text/plain": [
       "\"\\nExpected output below- don't re-evaluate this cell!\\n\\nNOTE: A valid answer must work for ALL inputs of the given type,\\nnot just this example.  I.e. do not hardcode around this answer / etc!\\n\""
      ]
     },
     "execution_count": 12,
     "metadata": {},
     "output_type": "execute_result"
    }
   ],
   "source": [
    "\"\"\"\n",
    "Expected output below- don't re-evaluate this cell!\n",
    "\n",
    "NOTE: A valid answer must work for ALL inputs of the given type,\n",
    "not just this example.  I.e. do not hardcode around this answer / etc!\n",
    "\"\"\""
   ]
  },
  {
   "cell_type": "markdown",
   "metadata": {},
   "source": [
    "Problem 3: Classification\n",
    "--------------------------------------------------\n",
    "\n",
    "SQL is a very [expressive language](http://wiki.postgresql.org/wiki/Mandelbrot_set) (some SQL extensions are known to be [Turing complete](http://stackoverflow.com/questions/900055/is-sql-or-even-tsql-turing-complete/7580013#7580013)). Here, we go through the steps of using it for a simple machine learning task: _binary classification_.\n",
    "\n",
    "We will use a subset of the [Iris](https://archive.ics.uci.edu/ml/datasets/Iris) dataset. The reduced dataset included here as table IRIS, is comprised of $100$ samples with features SepalLength, SepalWidth, PetalLength, PetalWidth and labels 0 (identifying the species Iris-setosa) and 1 (the species Iris-versicolor). Samples of the third class (Iris-virginica) present in the original dataset have been dropped for this exercise."
   ]
  },
  {
   "cell_type": "code",
   "execution_count": 24,
   "metadata": {},
   "outputs": [
    {
     "name": "stdout",
     "output_type": "stream",
     "text": [
      " * sqlite:///assignment2.db\n",
      "Done.\n"
     ]
    },
    {
     "data": {
      "text/html": [
       "<table>\n",
       "    <tr>\n",
       "        <th>i</th>\n",
       "        <th>SepalLength</th>\n",
       "        <th>SepalWidth</th>\n",
       "        <th>PetalLength</th>\n",
       "        <th>PetalWidth</th>\n",
       "        <th>Label</th>\n",
       "    </tr>\n",
       "    <tr>\n",
       "        <td>0</td>\n",
       "        <td>5.1</td>\n",
       "        <td>3.5</td>\n",
       "        <td>1.4</td>\n",
       "        <td>0.2</td>\n",
       "        <td>0</td>\n",
       "    </tr>\n",
       "    <tr>\n",
       "        <td>1</td>\n",
       "        <td>4.9</td>\n",
       "        <td>3.0</td>\n",
       "        <td>1.4</td>\n",
       "        <td>0.2</td>\n",
       "        <td>0</td>\n",
       "    </tr>\n",
       "    <tr>\n",
       "        <td>2</td>\n",
       "        <td>4.7</td>\n",
       "        <td>3.2</td>\n",
       "        <td>1.3</td>\n",
       "        <td>0.2</td>\n",
       "        <td>0</td>\n",
       "    </tr>\n",
       "    <tr>\n",
       "        <td>3</td>\n",
       "        <td>4.6</td>\n",
       "        <td>3.1</td>\n",
       "        <td>1.5</td>\n",
       "        <td>0.2</td>\n",
       "        <td>0</td>\n",
       "    </tr>\n",
       "    <tr>\n",
       "        <td>4</td>\n",
       "        <td>5.0</td>\n",
       "        <td>3.6</td>\n",
       "        <td>1.4</td>\n",
       "        <td>0.2</td>\n",
       "        <td>0</td>\n",
       "    </tr>\n",
       "</table>"
      ],
      "text/plain": [
       "[(0, 5.1, 3.5, 1.4, 0.2, 0),\n",
       " (1, 4.9, 3.0, 1.4, 0.2, 0),\n",
       " (2, 4.7, 3.2, 1.3, 0.2, 0),\n",
       " (3, 4.6, 3.1, 1.5, 0.2, 0),\n",
       " (4, 5.0, 3.6, 1.4, 0.2, 0)]"
      ]
     },
     "execution_count": 24,
     "metadata": {},
     "output_type": "execute_result"
    }
   ],
   "source": [
    "%sql SELECT * FROM IRIS LIMIT 5;"
   ]
  },
  {
   "cell_type": "markdown",
   "metadata": {},
   "source": [
    "**Model**\n",
    "\n",
    "We will use a simple _linear model_ to predict the label (species) given the four features included in the dataset.\n",
    "An unlabeled sample $x_i \\in \\mathbb{R}^4$ is a vector the four given feature values. For example, the first sample in our dataset is $x_0=[5.1, 3.5, 1.4, 0.2]^\\top$.\n",
    "This model, known as the [Perceptron](https://en.wikipedia.org/wiki/Perceptron), is also represented as a four-dimensional vector $w \\in \\mathbb{R}^4$. Given sample $x_i$ and model $w$ the perceptron makes the following prediction $\\hat{y}_i$ for the true label, $y_i$ of sample $x_i$:\n",
    "$$\n",
    "    \\hat{y}_i={\\begin{cases}1&{\\text{if }} x_i^\\top w >0\\\\0&{\\text{otherwise}}\\end{cases}}\n",
    "$$\n",
    "\n",
    "A pre-trained model, $w$, is included in table MODEL."
   ]
  },
  {
   "cell_type": "code",
   "execution_count": 12,
   "metadata": {},
   "outputs": [
    {
     "name": "stdout",
     "output_type": "stream",
     "text": [
      " * sqlite:///assignment2.db\n",
      "Done.\n"
     ]
    },
    {
     "data": {
      "text/html": [
       "<table>\n",
       "    <tr>\n",
       "        <th>j</th>\n",
       "        <th>val</th>\n",
       "    </tr>\n",
       "    <tr>\n",
       "        <td>0</td>\n",
       "        <td>0.35260621</td>\n",
       "    </tr>\n",
       "    <tr>\n",
       "        <td>1</td>\n",
       "        <td>-0.90142873</td>\n",
       "    </tr>\n",
       "    <tr>\n",
       "        <td>2</td>\n",
       "        <td>0.59729474</td>\n",
       "    </tr>\n",
       "    <tr>\n",
       "        <td>3</td>\n",
       "        <td>1.30194557</td>\n",
       "    </tr>\n",
       "</table>"
      ],
      "text/plain": [
       "[(0, 0.35260621), (1, -0.90142873), (2, 0.59729474), (3, 1.30194557)]"
      ]
     },
     "execution_count": 12,
     "metadata": {},
     "output_type": "execute_result"
    }
   ],
   "source": [
    "%sql SELECT * FROM MODEL;"
   ]
  },
  {
   "cell_type": "markdown",
   "metadata": {},
   "source": [
    "### Part (a): Matrix-vector multiplication [15 points]\n",
    "\n",
    "If we consider the _feature matrix_, $X$, whose $i$-th row is $x_i^\\top$, the prediction rule for all samples becomes:\n",
    "$$\n",
    "    \\hat{y}= \\mathrm{step}(X w)\n",
    "$$\n",
    "where $Xw$ is a matrix-vector multiplication and\n",
    "$$\n",
    "    \\mathrm{step}(z)_i={\\begin{cases}1&{\\text{if }} z_i >0\\\\0&{\\text{otherwise}}\\end{cases}}.\n",
    "$$\n",
    "The final product, $\\hat{y} \\in \\{0,1\\}^n$ is a vector with the predictions for all samples.\n",
    "\n",
    "The product of a matrix $X$ (having dimensions $n\\times m$) and a vector $w$ (having dimensions $m\\times 1$) is the vector $c$ (of dimension $n\\times 1$) having cell at row $i$ and column $j$ equal to:\n",
    "\n",
    "$$c_{i} = \\sum_{j=1}^m X_{ij}w_{j}$$\n",
    "\n",
    "In other words, to do matrix-vector multiplication, get each cell of the resulting vector $c$, $c_{i}$, by taking the _dot product_ of the $i$th row of $X$ and the $w$.\n",
    "\n",
    "We start by preprocessing IRIS to create the $X$ feature matrix, using the following schema:\n",
    "\n",
    "> * `i INT`:   Row index\n",
    "> * `j INT`:   Column index\n",
    "> * `val INT`: Cell value\n",
    "\n",
    "In order to streamline the work in this section we will make use of views. A view is a virtual table based on the output set of a SQL query. A view can be used just like a normal table; the only difference under the hood is that the DBMS re-evaluates the query used to generate it each time a view is queried by a user (thus the data is always up-to date!)"
   ]
  },
  {
   "cell_type": "code",
   "execution_count": 13,
   "metadata": {},
   "outputs": [
    {
     "name": "stdout",
     "output_type": "stream",
     "text": [
      " * sqlite:///assignment2.db\n",
      "Done.\n",
      "Done.\n"
     ]
    },
    {
     "data": {
      "text/plain": [
       "[]"
      ]
     },
     "execution_count": 13,
     "metadata": {},
     "output_type": "execute_result"
    }
   ],
   "source": [
    "%%sql\n",
    "DROP VIEW IF EXISTS X;\n",
    "CREATE VIEW X AS\n",
    "SELECT i, 0 as j, SepalLength as val\n",
    "FROM IRIS\n",
    "UNION\n",
    "SELECT i, 1 as j, SepalWidth as val\n",
    "FROM IRIS\n",
    "UNION\n",
    "SELECT i, 2 as j, PetalLength as val\n",
    "FROM IRIS\n",
    "UNION\n",
    "SELECT i, 3 as j, PetalWidth as val\n",
    "FROM IRIS;"
   ]
  },
  {
   "cell_type": "code",
   "execution_count": 14,
   "metadata": {},
   "outputs": [
    {
     "name": "stdout",
     "output_type": "stream",
     "text": [
      " * sqlite:///assignment2.db\n",
      "Done.\n"
     ]
    },
    {
     "data": {
      "text/html": [
       "<table>\n",
       "    <tr>\n",
       "        <th>i</th>\n",
       "        <th>j</th>\n",
       "        <th>val</th>\n",
       "    </tr>\n",
       "    <tr>\n",
       "        <td>0</td>\n",
       "        <td>0</td>\n",
       "        <td>5.1</td>\n",
       "    </tr>\n",
       "    <tr>\n",
       "        <td>0</td>\n",
       "        <td>1</td>\n",
       "        <td>3.5</td>\n",
       "    </tr>\n",
       "    <tr>\n",
       "        <td>0</td>\n",
       "        <td>2</td>\n",
       "        <td>1.4</td>\n",
       "    </tr>\n",
       "    <tr>\n",
       "        <td>0</td>\n",
       "        <td>3</td>\n",
       "        <td>0.2</td>\n",
       "    </tr>\n",
       "    <tr>\n",
       "        <td>1</td>\n",
       "        <td>0</td>\n",
       "        <td>4.9</td>\n",
       "    </tr>\n",
       "</table>"
      ],
      "text/plain": [
       "[(0, 0, 5.1), (0, 1, 3.5), (0, 2, 1.4), (0, 3, 0.2), (1, 0, 4.9)]"
      ]
     },
     "execution_count": 14,
     "metadata": {},
     "output_type": "execute_result"
    }
   ],
   "source": [
    "%sql SELECT * FROM X LIMIT 5;"
   ]
  },
  {
   "cell_type": "markdown",
   "metadata": {},
   "source": [
    "Write a single SQL statement that implements the matrix-vector multiply $Xw$ between the provided view $X$ and model $w$ from table MODEL. Return the first 5 tuples as your answer.\n",
    "\n",
    "Write your query here:"
   ]
  },
  {
   "cell_type": "code",
   "execution_count": 15,
   "metadata": {},
   "outputs": [
    {
     "name": "stdout",
     "output_type": "stream",
     "text": [
      " * sqlite:///assignment2.db\n",
      "Done.\n"
     ]
    },
    {
     "data": {
      "text/html": [
       "<table>\n",
       "    <tr>\n",
       "        <th>i</th>\n",
       "        <th>prod</th>\n",
       "    </tr>\n",
       "    <tr>\n",
       "        <td>0</td>\n",
       "        <td>-0.26010713400000024</td>\n",
       "    </tr>\n",
       "    <tr>\n",
       "        <td>1</td>\n",
       "        <td>0.12008598900000017</td>\n",
       "    </tr>\n",
       "    <tr>\n",
       "        <td>2</td>\n",
       "        <td>-0.19045047300000034</td>\n",
       "    </tr>\n",
       "    <tr>\n",
       "        <td>3</td>\n",
       "        <td>-0.016109273000000146</td>\n",
       "    </tr>\n",
       "    <tr>\n",
       "        <td>4</td>\n",
       "        <td>-0.38551062799999997</td>\n",
       "    </tr>\n",
       "    <tr>\n",
       "        <td>5</td>\n",
       "        <td>-0.07531922699999993</td>\n",
       "    </tr>\n",
       "    <tr>\n",
       "        <td>6</td>\n",
       "        <td>-0.2160728090000002</td>\n",
       "    </tr>\n",
       "    <tr>\n",
       "        <td>7</td>\n",
       "        <td>-0.145495408</td>\n",
       "    </tr>\n",
       "    <tr>\n",
       "        <td>8</td>\n",
       "        <td>0.03392575700000028</td>\n",
       "    </tr>\n",
       "    <tr>\n",
       "        <td>9</td>\n",
       "        <td>-0.04052196699999991</td>\n",
       "    </tr>\n",
       "    <tr>\n",
       "        <td>10</td>\n",
       "        <td>-0.27488154300000006</td>\n",
       "    </tr>\n",
       "    <tr>\n",
       "        <td>11</td>\n",
       "        <td>-0.15628717600000003</td>\n",
       "    </tr>\n",
       "    <tr>\n",
       "        <td>12</td>\n",
       "        <td>-0.045369189000000004</td>\n",
       "    </tr>\n",
       "    <tr>\n",
       "        <td>13</td>\n",
       "        <td>-0.40086071599999984</td>\n",
       "    </tr>\n",
       "    <tr>\n",
       "        <td>14</td>\n",
       "        <td>-0.5834561</td>\n",
       "    </tr>\n",
       "    <tr>\n",
       "        <td>15</td>\n",
       "        <td>-0.5397106770000005</td>\n",
       "    </tr>\n",
       "    <tr>\n",
       "        <td>16</td>\n",
       "        <td>-0.31423712299999995</td>\n",
       "    </tr>\n",
       "    <tr>\n",
       "        <td>17</td>\n",
       "        <td>-0.1299125770000003</td>\n",
       "    </tr>\n",
       "    <tr>\n",
       "        <td>18</td>\n",
       "        <td>-0.009589047999999989</td>\n",
       "    </tr>\n",
       "    <tr>\n",
       "        <td>19</td>\n",
       "        <td>-0.3406117220000004</td>\n",
       "    </tr>\n",
       "    <tr>\n",
       "        <td>20</td>\n",
       "        <td>0.1150060240000001</td>\n",
       "    </tr>\n",
       "    <tr>\n",
       "        <td>21</td>\n",
       "        <td>-0.12027429200000028</td>\n",
       "    </tr>\n",
       "    <tr>\n",
       "        <td>22</td>\n",
       "        <td>-0.765471008</td>\n",
       "    </tr>\n",
       "    <tr>\n",
       "        <td>23</td>\n",
       "        <td>0.4899507049999998</td>\n",
       "    </tr>\n",
       "    <tr>\n",
       "        <td>24</td>\n",
       "        <td>0.02290124599999993</td>\n",
       "    </tr>\n",
       "    <tr>\n",
       "        <td>25</td>\n",
       "        <td>0.2748055580000001</td>\n",
       "    </tr>\n",
       "    <tr>\n",
       "        <td>26</td>\n",
       "        <td>0.1746231800000001</td>\n",
       "    </tr>\n",
       "    <tr>\n",
       "        <td>27</td>\n",
       "        <td>-0.1651170389999999</td>\n",
       "    </tr>\n",
       "    <tr>\n",
       "        <td>28</td>\n",
       "        <td>-0.13470363999999985</td>\n",
       "    </tr>\n",
       "    <tr>\n",
       "        <td>29</td>\n",
       "        <td>-0.011262051000000384</td>\n",
       "    </tr>\n",
       "    <tr>\n",
       "        <td>30</td>\n",
       "        <td>0.11414144300000001</td>\n",
       "    </tr>\n",
       "    <tr>\n",
       "        <td>31</td>\n",
       "        <td>0.25593619</td>\n",
       "    </tr>\n",
       "    <tr>\n",
       "        <td>32</td>\n",
       "        <td>-0.8361688339999995</td>\n",
       "    </tr>\n",
       "    <tr>\n",
       "        <td>33</td>\n",
       "        <td>-0.750064761</td>\n",
       "    </tr>\n",
       "    <tr>\n",
       "        <td>34</td>\n",
       "        <td>-0.04052196699999991</td>\n",
       "    </tr>\n",
       "    <tr>\n",
       "        <td>35</td>\n",
       "        <td>-0.14439808400000037</td>\n",
       "    </tr>\n",
       "    <tr>\n",
       "        <td>36</td>\n",
       "        <td>-0.178794124</td>\n",
       "    </tr>\n",
       "    <tr>\n",
       "        <td>37</td>\n",
       "        <td>-0.04052196699999991</td>\n",
       "    </tr>\n",
       "    <tr>\n",
       "        <td>38</td>\n",
       "        <td>-0.11594658999999968</td>\n",
       "    </tr>\n",
       "    <tr>\n",
       "        <td>39</td>\n",
       "        <td>-0.11023478700000028</td>\n",
       "    </tr>\n",
       "    <tr>\n",
       "        <td>40</td>\n",
       "        <td>-0.22490267199999997</td>\n",
       "    </tr>\n",
       "    <tr>\n",
       "        <td>41</td>\n",
       "        <td>0.680508699</td>\n",
       "    </tr>\n",
       "    <tr>\n",
       "        <td>42</td>\n",
       "        <td>-0.29623233600000015</td>\n",
       "    </tr>\n",
       "    <tr>\n",
       "        <td>43</td>\n",
       "        <td>0.34486942099999995</td>\n",
       "    </tr>\n",
       "    <tr>\n",
       "        <td>44</td>\n",
       "        <td>0.028500730999999724</td>\n",
       "    </tr>\n",
       "    <tr>\n",
       "        <td>45</td>\n",
       "        <td>0.21501992499999995</td>\n",
       "    </tr>\n",
       "    <tr>\n",
       "        <td>46</td>\n",
       "        <td>-0.41107680500000027</td>\n",
       "    </tr>\n",
       "    <tr>\n",
       "        <td>47</td>\n",
       "        <td>-0.16598162000000055</td>\n",
       "    </tr>\n",
       "    <tr>\n",
       "        <td>48</td>\n",
       "        <td>-0.3101421640000002</td>\n",
       "    </tr>\n",
       "    <tr>\n",
       "        <td>49</td>\n",
       "        <td>-0.11508200899999993</td>\n",
       "    </tr>\n",
       "    <tr>\n",
       "        <td>50</td>\n",
       "        <td>4.21368061</td>\n",
       "    </tr>\n",
       "    <tr>\n",
       "        <td>51</td>\n",
       "        <td>4.012852493</td>\n",
       "    </tr>\n",
       "    <tr>\n",
       "        <td>52</td>\n",
       "        <td>4.518216367000001</td>\n",
       "    </tr>\n",
       "    <tr>\n",
       "        <td>53</td>\n",
       "        <td>3.947756277</td>\n",
       "    </tr>\n",
       "    <tr>\n",
       "        <td>54</td>\n",
       "        <td>4.4684140800000005</td>\n",
       "    </tr>\n",
       "    <tr>\n",
       "        <td>55</td>\n",
       "        <td>3.8662105240000004</td>\n",
       "    </tr>\n",
       "    <tr>\n",
       "        <td>56</td>\n",
       "        <td>4.1371025040000005</td>\n",
       "    </tr>\n",
       "    <tr>\n",
       "        <td>57</td>\n",
       "        <td>2.8373596890000004</td>\n",
       "    </tr>\n",
       "    <tr>\n",
       "        <td>58</td>\n",
       "        <td>4.153142714</td>\n",
       "    </tr>\n",
       "    <tr>\n",
       "        <td>59</td>\n",
       "        <td>3.5518680049999998</td>\n",
       "    </tr>\n",
       "    <tr>\n",
       "        <td>60</td>\n",
       "        <td>3.3526507500000005</td>\n",
       "    </tr>\n",
       "    <tr>\n",
       "        <td>61</td>\n",
       "        <td>3.837646712</td>\n",
       "    </tr>\n",
       "    <tr>\n",
       "        <td>62</td>\n",
       "        <td>3.8236185839999997</td>\n",
       "    </tr>\n",
       "    <tr>\n",
       "        <td>63</td>\n",
       "        <td>4.16676364</td>\n",
       "    </tr>\n",
       "    <tr>\n",
       "        <td>64</td>\n",
       "        <td>3.2032417640000004</td>\n",
       "    </tr>\n",
       "    <tr>\n",
       "        <td>65</td>\n",
       "        <td>4.018853198</td>\n",
       "    </tr>\n",
       "    <tr>\n",
       "        <td>66</td>\n",
       "        <td>3.911053271</td>\n",
       "    </tr>\n",
       "    <tr>\n",
       "        <td>67</td>\n",
       "        <td>3.3621124509999993</td>\n",
       "    </tr>\n",
       "    <tr>\n",
       "        <td>68</td>\n",
       "        <td>4.843759981</td>\n",
       "    </tr>\n",
       "    <tr>\n",
       "        <td>69</td>\n",
       "        <td>3.482612564</td>\n",
       "    </tr>\n",
       "    <tr>\n",
       "        <td>70</td>\n",
       "        <td>4.406321480999999</td>\n",
       "    </tr>\n",
       "    <tr>\n",
       "        <td>71</td>\n",
       "        <td>3.708605638</td>\n",
       "    </tr>\n",
       "    <tr>\n",
       "        <td>72</td>\n",
       "        <td>4.847509879</td>\n",
       "    </tr>\n",
       "    <tr>\n",
       "        <td>73</td>\n",
       "        <td>3.996517399</td>\n",
       "    </tr>\n",
       "    <tr>\n",
       "        <td>74</td>\n",
       "        <td>3.9034330500000003</td>\n",
       "    </tr>\n",
       "    <tr>\n",
       "        <td>75</td>\n",
       "        <td>4.07373545</td>\n",
       "    </tr>\n",
       "    <tr>\n",
       "        <td>76</td>\n",
       "        <td>4.563460334</td>\n",
       "    </tr>\n",
       "    <tr>\n",
       "        <td>77</td>\n",
       "        <td>4.857956586</td>\n",
       "    </tr>\n",
       "    <tr>\n",
       "        <td>78</td>\n",
       "        <td>4.142238627999999</td>\n",
       "    </tr>\n",
       "    <tr>\n",
       "        <td>79</td>\n",
       "        <td>3.058617859</td>\n",
       "    </tr>\n",
       "    <tr>\n",
       "        <td>80</td>\n",
       "        <td>3.4777653420000005</td>\n",
       "    </tr>\n",
       "    <tr>\n",
       "        <td>81</td>\n",
       "        <td>3.287841311</td>\n",
       "    </tr>\n",
       "    <tr>\n",
       "        <td>82</td>\n",
       "        <td>3.5030426169999993</td>\n",
       "    </tr>\n",
       "    <tr>\n",
       "        <td>83</td>\n",
       "        <td>4.811095775</td>\n",
       "    </tr>\n",
       "    <tr>\n",
       "        <td>84</td>\n",
       "        <td>3.8405320290000002</td>\n",
       "    </tr>\n",
       "    <tr>\n",
       "        <td>85</td>\n",
       "        <td>3.82171882</td>\n",
       "    </tr>\n",
       "    <tr>\n",
       "        <td>86</td>\n",
       "        <td>4.328236177</td>\n",
       "    </tr>\n",
       "    <tr>\n",
       "        <td>87</td>\n",
       "        <td>4.4687591410000005</td>\n",
       "    </tr>\n",
       "    <tr>\n",
       "        <td>88</td>\n",
       "        <td>3.411746261</td>\n",
       "    </tr>\n",
       "    <tr>\n",
       "        <td>89</td>\n",
       "        <td>3.767470531</td>\n",
       "    </tr>\n",
       "    <tr>\n",
       "        <td>90</td>\n",
       "        <td>3.7860509969999994</td>\n",
       "    </tr>\n",
       "    <tr>\n",
       "        <td>91</td>\n",
       "        <td>4.016891293</td>\n",
       "    </tr>\n",
       "    <tr>\n",
       "        <td>92</td>\n",
       "        <td>3.652914964</td>\n",
       "    </tr>\n",
       "    <tr>\n",
       "        <td>93</td>\n",
       "        <td>2.962763183</td>\n",
       "    </tr>\n",
       "    <tr>\n",
       "        <td>94</td>\n",
       "        <td>3.741904354</td>\n",
       "    </tr>\n",
       "    <tr>\n",
       "        <td>95</td>\n",
       "        <td>3.376541799</td>\n",
       "    </tr>\n",
       "    <tr>\n",
       "        <td>96</td>\n",
       "        <td>3.5968792290000007</td>\n",
       "    </tr>\n",
       "    <tr>\n",
       "        <td>97</td>\n",
       "        <td>3.8329118080000004</td>\n",
       "    </tr>\n",
       "    <tr>\n",
       "        <td>98</td>\n",
       "        <td>2.768744193</td>\n",
       "    </tr>\n",
       "    <tr>\n",
       "        <td>99</td>\n",
       "        <td>3.627292628</td>\n",
       "    </tr>\n",
       "</table>"
      ],
      "text/plain": [
       "[(0, -0.26010713400000024),\n",
       " (1, 0.12008598900000017),\n",
       " (2, -0.19045047300000034),\n",
       " (3, -0.016109273000000146),\n",
       " (4, -0.38551062799999997),\n",
       " (5, -0.07531922699999993),\n",
       " (6, -0.2160728090000002),\n",
       " (7, -0.145495408),\n",
       " (8, 0.03392575700000028),\n",
       " (9, -0.04052196699999991),\n",
       " (10, -0.27488154300000006),\n",
       " (11, -0.15628717600000003),\n",
       " (12, -0.045369189000000004),\n",
       " (13, -0.40086071599999984),\n",
       " (14, -0.5834561),\n",
       " (15, -0.5397106770000005),\n",
       " (16, -0.31423712299999995),\n",
       " (17, -0.1299125770000003),\n",
       " (18, -0.009589047999999989),\n",
       " (19, -0.3406117220000004),\n",
       " (20, 0.1150060240000001),\n",
       " (21, -0.12027429200000028),\n",
       " (22, -0.765471008),\n",
       " (23, 0.4899507049999998),\n",
       " (24, 0.02290124599999993),\n",
       " (25, 0.2748055580000001),\n",
       " (26, 0.1746231800000001),\n",
       " (27, -0.1651170389999999),\n",
       " (28, -0.13470363999999985),\n",
       " (29, -0.011262051000000384),\n",
       " (30, 0.11414144300000001),\n",
       " (31, 0.25593619),\n",
       " (32, -0.8361688339999995),\n",
       " (33, -0.750064761),\n",
       " (34, -0.04052196699999991),\n",
       " (35, -0.14439808400000037),\n",
       " (36, -0.178794124),\n",
       " (37, -0.04052196699999991),\n",
       " (38, -0.11594658999999968),\n",
       " (39, -0.11023478700000028),\n",
       " (40, -0.22490267199999997),\n",
       " (41, 0.680508699),\n",
       " (42, -0.29623233600000015),\n",
       " (43, 0.34486942099999995),\n",
       " (44, 0.028500730999999724),\n",
       " (45, 0.21501992499999995),\n",
       " (46, -0.41107680500000027),\n",
       " (47, -0.16598162000000055),\n",
       " (48, -0.3101421640000002),\n",
       " (49, -0.11508200899999993),\n",
       " (50, 4.21368061),\n",
       " (51, 4.012852493),\n",
       " (52, 4.518216367000001),\n",
       " (53, 3.947756277),\n",
       " (54, 4.4684140800000005),\n",
       " (55, 3.8662105240000004),\n",
       " (56, 4.1371025040000005),\n",
       " (57, 2.8373596890000004),\n",
       " (58, 4.153142714),\n",
       " (59, 3.5518680049999998),\n",
       " (60, 3.3526507500000005),\n",
       " (61, 3.837646712),\n",
       " (62, 3.8236185839999997),\n",
       " (63, 4.16676364),\n",
       " (64, 3.2032417640000004),\n",
       " (65, 4.018853198),\n",
       " (66, 3.911053271),\n",
       " (67, 3.3621124509999993),\n",
       " (68, 4.843759981),\n",
       " (69, 3.482612564),\n",
       " (70, 4.406321480999999),\n",
       " (71, 3.708605638),\n",
       " (72, 4.847509879),\n",
       " (73, 3.996517399),\n",
       " (74, 3.9034330500000003),\n",
       " (75, 4.07373545),\n",
       " (76, 4.563460334),\n",
       " (77, 4.857956586),\n",
       " (78, 4.142238627999999),\n",
       " (79, 3.058617859),\n",
       " (80, 3.4777653420000005),\n",
       " (81, 3.287841311),\n",
       " (82, 3.5030426169999993),\n",
       " (83, 4.811095775),\n",
       " (84, 3.8405320290000002),\n",
       " (85, 3.82171882),\n",
       " (86, 4.328236177),\n",
       " (87, 4.4687591410000005),\n",
       " (88, 3.411746261),\n",
       " (89, 3.767470531),\n",
       " (90, 3.7860509969999994),\n",
       " (91, 4.016891293),\n",
       " (92, 3.652914964),\n",
       " (93, 2.962763183),\n",
       " (94, 3.741904354),\n",
       " (95, 3.376541799),\n",
       " (96, 3.5968792290000007),\n",
       " (97, 3.8329118080000004),\n",
       " (98, 2.768744193),\n",
       " (99, 3.627292628)]"
      ]
     },
     "execution_count": 15,
     "metadata": {},
     "output_type": "execute_result"
    }
   ],
   "source": [
    "%%sql\n",
    "SELECT X.i, SUM(X.val * MODEL.val) AS prod\n",
    "FROM X, MODEL\n",
    "WHERE X.j=MODEL.j\n",
    "GROUP BY X.i;"
   ]
  },
  {
   "cell_type": "code",
   "execution_count": 17,
   "metadata": {},
   "outputs": [
    {
     "data": {
      "text/plain": [
       "\"\\nExpected output below- don't re-evaluate this cell!\\n\\nNOTE: A valid answer must work for ALL inputs of the given type,\\nnot just this example.  I.e. do not hardcode around this answer / etc!\\n\""
      ]
     },
     "execution_count": 17,
     "metadata": {},
     "output_type": "execute_result"
    }
   ],
   "source": [
    "\"\"\"\n",
    "Expected output below- don't re-evaluate this cell!\n",
    "\n",
    "NOTE: A valid answer must work for ALL inputs of the given type,\n",
    "not just this example.  I.e. do not hardcode around this answer / etc!\n",
    "\"\"\""
   ]
  },
  {
   "cell_type": "markdown",
   "metadata": {},
   "source": [
    "### Part (b): Predict labels [15 points]\n",
    "\n",
    "Now we can predict the labels using the following rule:\n",
    "$$\n",
    "    \\hat{y}= \\mathrm{step}(X w)\n",
    "$$\n",
    "\n",
    "Create a view named 'PREDICTION' that will produce tuples of sample IDs and label predictions, i.e. $(i,\\hat{y}_i)$.\n",
    "\n",
    "**Not sure you got the previous question right?**\n",
    "The provided view 'ANSWER_P3a' with schema $(i,(Xw)_i)$ has the right answer. You can use it in your solution here for full credit in this question. **Warning**: Using this view in Part (a) is against the rules.\n",
    "\n",
    "Write your query in the following cell:"
   ]
  },
  {
   "cell_type": "code",
   "execution_count": 35,
   "metadata": {},
   "outputs": [
    {
     "name": "stdout",
     "output_type": "stream",
     "text": [
      " * sqlite:///assignment2.db\n",
      "Done.\n"
     ]
    },
    {
     "data": {
      "text/plain": [
       "[]"
      ]
     },
     "execution_count": 35,
     "metadata": {},
     "output_type": "execute_result"
    }
   ],
   "source": [
    "%%sql\n",
    "CREATE VIEW PREDICTION AS\n",
    "SELECT ANSWER_P3a.i, \n",
    "CASE \n",
    "    WHEN ANSWER_P3a.val > 0\n",
    "        THEN 1\n",
    "    ELSE 0\n",
    "END label\n",
    "FROM ANSWER_P3a;"
   ]
  },
  {
   "cell_type": "markdown",
   "metadata": {},
   "source": [
    "To help you test, below is the expected output of a query for the first five records in the view:"
   ]
  },
  {
   "cell_type": "code",
   "execution_count": 36,
   "metadata": {},
   "outputs": [
    {
     "name": "stdout",
     "output_type": "stream",
     "text": [
      " * sqlite:///assignment2.db\n",
      "Done.\n"
     ]
    },
    {
     "data": {
      "text/html": [
       "<table>\n",
       "    <tr>\n",
       "        <th>i</th>\n",
       "        <th>label</th>\n",
       "    </tr>\n",
       "    <tr>\n",
       "        <td>0</td>\n",
       "        <td>0</td>\n",
       "    </tr>\n",
       "    <tr>\n",
       "        <td>1</td>\n",
       "        <td>1</td>\n",
       "    </tr>\n",
       "    <tr>\n",
       "        <td>2</td>\n",
       "        <td>0</td>\n",
       "    </tr>\n",
       "    <tr>\n",
       "        <td>3</td>\n",
       "        <td>0</td>\n",
       "    </tr>\n",
       "    <tr>\n",
       "        <td>4</td>\n",
       "        <td>0</td>\n",
       "    </tr>\n",
       "</table>"
      ],
      "text/plain": [
       "[(0, 0), (1, 1), (2, 0), (3, 0), (4, 0)]"
      ]
     },
     "execution_count": 36,
     "metadata": {},
     "output_type": "execute_result"
    }
   ],
   "source": [
    "%sql SELECT * FROM PREDICTION LIMIT 5;"
   ]
  },
  {
   "cell_type": "code",
   "execution_count": 20,
   "metadata": {},
   "outputs": [
    {
     "data": {
      "text/plain": [
       "\"\\nExpected output below- don't re-evaluate this cell!\\n\\nNOTE: A valid answer must work for ALL inputs of the given type,\\nnot just this example.  I.e. do not hardcode around this answer / etc!\\n\""
      ]
     },
     "execution_count": 20,
     "metadata": {},
     "output_type": "execute_result"
    }
   ],
   "source": [
    "\"\"\"\n",
    "Expected output below- don't re-evaluate this cell!\n",
    "\n",
    "NOTE: A valid answer must work for ALL inputs of the given type,\n",
    "not just this example.  I.e. do not hardcode around this answer / etc!\n",
    "\"\"\""
   ]
  },
  {
   "cell_type": "markdown",
   "metadata": {},
   "source": [
    "### Part (c): Evaluate accuracy [20 points]\n",
    "\n",
    "Given the predicted labels $\\hat{y}_i$ and true labels $y_i$ we evaluate the predictive power of our model using _accuracy_: the fraction of labels our model got right.\n",
    "$$\n",
    "    \\mathrm{accuracy} \n",
    "    = \\frac{1}{n}\\sum_{i=1}^n \\mathbb{I}[y_i = \\hat{y}_i]\n",
    "$$\n",
    "\n",
    "Using the 'PREDICTION' view from the previous part should make for a simpler solution.\n",
    "\n",
    "**Not sure you got the previous question right?**\n",
    "The provided view 'ANSWER_P3b' with schema $(i,\\hat{y}_i)$ has the right answer. You can use it in your solution here for full credit in this question. **Warning**: Using this view in Part (b) is against the rules.\n",
    "\n",
    "Write your query here:"
   ]
  },
  {
   "cell_type": "code",
   "execution_count": 44,
   "metadata": {},
   "outputs": [
    {
     "name": "stdout",
     "output_type": "stream",
     "text": [
      " * sqlite:///assignment2.db\n",
      "Done.\n"
     ]
    },
    {
     "data": {
      "text/html": [
       "<table>\n",
       "    <tr>\n",
       "        <th>res</th>\n",
       "    </tr>\n",
       "    <tr>\n",
       "        <td>87</td>\n",
       "    </tr>\n",
       "</table>"
      ],
      "text/plain": [
       "[(87,)]"
      ]
     },
     "execution_count": 44,
     "metadata": {},
     "output_type": "execute_result"
    }
   ],
   "source": [
    "%%sql\n",
    "SELECT ((i2.count2*100)/(i1.count1)) AS res FROM(\n",
    "SELECT COUNT(IRIS.i) AS count1 \n",
    "FROM IRIS) AS i1,\n",
    "(SELECT COUNT(IRIS.i) AS count2\n",
    "FROM ANSWER_P3b, IRIS\n",
    "WHERE ANSWER_P3b.val = IRIS.label AND ANSWER_P3b.i = IRIS.i) AS i2;"
   ]
  },
  {
   "cell_type": "code",
   "execution_count": 57,
   "metadata": {},
   "outputs": [
    {
     "data": {
      "text/plain": [
       "\"\\nExpected output below- don't re-evaluate this cell!\\n\\nNOTE: A valid answer must work for ALL inputs of the given type,\\nnot just this example.  I.e. do not hardcode around this answer / etc!\\n\""
      ]
     },
     "execution_count": 57,
     "metadata": {},
     "output_type": "execute_result"
    }
   ],
   "source": [
    "\"\"\"\n",
    "Expected output below- don't re-evaluate this cell!\n",
    "\n",
    "NOTE: A valid answer must work for ALL inputs of the given type,\n",
    "not just this example.  I.e. do not hardcode around this answer / etc!\n",
    "\"\"\""
   ]
  },
  {
   "cell_type": "markdown",
   "metadata": {},
   "source": [
    "Our pre-trained classifer achieved a classification accuracy of 87%. If you don't think this is good enough, you are correct. This is not an optimally trained model. Try the bonus question to see how this classification performance can be improved!"
   ]
  },
  {
   "cell_type": "markdown",
   "metadata": {},
   "source": [
    "### Bonus Problem 1: Classification, Pt. II\n",
    "\n",
    "A simple procedure from training the model $w$ given labeled data, is as follows.\n",
    "$$\n",
    "    w' = w + 0.0001 \\sum_{i=1}^n (y_i-\\hat{y_i})x_i\n",
    "$$\n",
    "This kind of optimization algorithm is typically applied iteratively, but here we will just run a single step. \n",
    "\n",
    "Run a SQL statement that computes the new model value, $w'$, based on the original model $w$ in MODEL and the samples $x_i$ in IRIS. \n",
    "\n",
    "**Using answers from previous parts.**\n",
    "As before, you should feel free to use the provided views 'ANSWER_P3a' and 'ANSWER_P3b' described in parts (b) and (c) in your solution for full credit in this question. **Warning**: Using these views in Parts (a) and (b) respectively is against the rules.\n",
    "\n",
    "Write your answer here:"
   ]
  },
  {
   "cell_type": "code",
   "execution_count": null,
   "metadata": {},
   "outputs": [],
   "source": []
  },
  {
   "cell_type": "code",
   "execution_count": 58,
   "metadata": {},
   "outputs": [
    {
     "data": {
      "text/plain": [
       "\"\\nExpected output below- don't re-evaluate this cell!\\n\\nNOTE: A valid answer must work for ALL inputs of the given type,\\nnot just this example.  I.e. do not hardcode around this answer / etc!\\n\""
      ]
     },
     "execution_count": 58,
     "metadata": {},
     "output_type": "execute_result"
    }
   ],
   "source": [
    "\"\"\"\n",
    "Expected output below- don't re-evaluate this cell!\n",
    "\n",
    "NOTE: A valid answer must work for ALL inputs of the given type,\n",
    "not just this example.  I.e. do not hardcode around this answer / etc!\n",
    "\"\"\""
   ]
  },
  {
   "cell_type": "markdown",
   "metadata": {},
   "source": [
    "We have a new model now. If you perform the evaluation process for this new model, you should find that accuracy has increased to 90%. Not bad for a single step of the algorithm! Further iterations will improve this performance more."
   ]
  }
 ],
 "metadata": {
  "kernelspec": {
   "display_name": "Python 3",
   "language": "python",
   "name": "python3"
  },
  "language_info": {
   "codemirror_mode": {
    "name": "ipython",
    "version": 3
   },
   "file_extension": ".py",
   "mimetype": "text/x-python",
   "name": "python",
   "nbconvert_exporter": "python",
   "pygments_lexer": "ipython3",
   "version": "3.8.5"
  }
 },
 "nbformat": 4,
 "nbformat_minor": 4
}
