{
 "cells": [
  {
   "cell_type": "code",
   "execution_count": 37,
   "metadata": {},
   "outputs": [],
   "source": [
    "import sys\n",
    "import numpy as np\n",
    "import pandas as pd"
   ]
  },
  {
   "cell_type": "code",
   "execution_count": 38,
   "metadata": {},
   "outputs": [],
   "source": [
    "def create_sent_dict(sentiment_file):\n",
    "    \"\"\"A function that creates a dictionary which contains terms as keys and their sentiment score as value\n",
    "        Args:\n",
    "            sentiment_file (string): The name of a tab-separated file that contains\n",
    "                                     all terms and scores (e.g., the AFINN file).\n",
    "        Returns:\n",
    "            dicitonary: A dictionary with schema d[term] = score\n",
    "        \"\"\"\n",
    "    scores = {}\n",
    "    sentiment_file = 'AFINN-111.txt' # to read strings from the command line you can use instead open(sys.argv[1])\n",
    "    sentiment_file = open(sentiment_file, 'r')\n",
    "    scores = {} # initialize an empty dictionary\n",
    "    for line in sentiment_file:\n",
    "        term, score = line.split(\"\\t\") # The file is tab-delimited and \"\\t\" means tab character\n",
    "        scores[term] = int(score) # Conver the score to an integer. It was parsed as a string.\n",
    "    sentiment_file.close()\n",
    "\n",
    "    return scores"
   ]
  },
  {
   "cell_type": "code",
   "execution_count": 39,
   "metadata": {},
   "outputs": [],
   "source": [
    "def get_tweet_sentiment(tweet, sent_scores):\n",
    "    \"\"\"A function that find the sentiment of a tweet and outputs a sentiment score.\n",
    "            Args:\n",
    "                tweet (string): A clean tweet\n",
    "                sent_scores (dictionary): The dictionary output by the method create_sent_dict\n",
    "            Returns:\n",
    "                score (numeric): The sentiment score of the tweet\n",
    "        \"\"\"\n",
    "    score = 0\n",
    "\n",
    "    for word in tweet.split():\n",
    "        if word in sent_scores.keys():\n",
    "            score = score+ sent_scores.get(word)\n",
    "    return score"
   ]
  },
  {
   "cell_type": "code",
   "execution_count": 43,
   "metadata": {},
   "outputs": [],
   "source": [
    "def term_sentiment(sent_scores, tweets_file):\n",
    "    \"\"\"A function that creates a dictionary which contains terms as keys and their sentiment score as value\n",
    "            Args:\n",
    "                sent_scores (dictionary): A dictionary with terms and their scores (the output of create_sent_dict)\n",
    "                tweets_file (string): The name of a txt file that contain the clean tweets\n",
    "            Returns:\n",
    "                dicitonary: A dictionary with schema d[new_term] = score\n",
    "            \"\"\"\n",
    "\n",
    "    new_term_sent = {}\n",
    "\n",
    "    tweets = open(tweets_file, 'r')\n",
    "    for tweet in tweets:\n",
    "        for word in tweet.split():\n",
    "            if word not in sent_scores.keys(): ## word is not in the dictionary\n",
    "                score = get_tweet_sentiment(tweet, sent_scores)\n",
    "                if word in new_term_sent:\n",
    "                    new_term_sent[word].append(score)\n",
    "                else:\n",
    "                    new_term_sent[word] = [score]\n",
    "    tweets.close()\n",
    "\n",
    "    for key in new_term_sent.keys():\n",
    "        value_list = new_term_sent.get(key)\n",
    "        avg = np.min(value_list)\n",
    "        avg = round(avg, 2)\n",
    "        new_term_sent[key] = avg\n",
    "\n",
    "    return new_term_sent"
   ]
  },
  {
   "cell_type": "code",
   "execution_count": 44,
   "metadata": {},
   "outputs": [],
   "source": [
    "def main():\n",
    "    sentiment_file = 'AFINN-111.txt'\n",
    "    tweets_file = 'clean_tweets.txt'\n",
    "\n",
    "    # Read the AFINN-111 data into a dictionary\n",
    "    sent_scores = create_sent_dict(sentiment_file)\n",
    "\n",
    "\n",
    "\n",
    "    # Derive the sentiment of new terms\n",
    "    new_term_sent = term_sentiment(sent_scores, tweets_file)\n",
    "\n",
    "    \n",
    "    return new_term_sent.values()\n",
    "\n",
    "res = main()"
   ]
  },
  {
   "cell_type": "code",
   "execution_count": 42,
   "metadata": {},
   "outputs": [
    {
     "data": {
      "text/plain": [
       "<AxesSubplot:>"
      ]
     },
     "execution_count": 42,
     "metadata": {},
     "output_type": "execute_result"
    },
    {
     "data": {
      "image/png": "[encoded data removed]",
      "text/plain": [
       "<Figure size 432x288 with 1 Axes>"
      ]
     },
     "metadata": {
      "needs_background": "light"
     },
     "output_type": "display_data"
    }
   ],
   "source": [
    "## max\n",
    "res_series = pd.Series(list(res))\n",
    "res_series.hist(log=True)"
   ]
  },
  {
   "cell_type": "code",
   "execution_count": 45,
   "metadata": {},
   "outputs": [
    {
     "data": {
      "text/plain": [
       "<AxesSubplot:>"
      ]
     },
     "execution_count": 45,
     "metadata": {},
     "output_type": "execute_result"
    },
    {
     "data": {
      "image/png": "[encoded data removed]",
      "text/plain": [
       "<Figure size 432x288 with 1 Axes>"
      ]
     },
     "metadata": {
      "needs_background": "light"
     },
     "output_type": "display_data"
    }
   ],
   "source": [
    "## min\n",
    "res_series = pd.Series(list(res))\n",
    "res_series.hist(log=True)"
   ]
  },
  {
   "cell_type": "code",
   "execution_count": 33,
   "metadata": {},
   "outputs": [
    {
     "data": {
      "text/plain": [
       "<AxesSubplot:>"
      ]
     },
     "execution_count": 33,
     "metadata": {},
     "output_type": "execute_result"
    },
    {
     "data": {
      "image/png": "[encoded data removed]",
      "text/plain": [
       "<Figure size 432x288 with 1 Axes>"
      ]
     },
     "metadata": {
      "needs_background": "light"
     },
     "output_type": "display_data"
    }
   ],
   "source": [
    "## median\n",
    "res_series = pd.Series(list(res))\n",
    "res_series.hist(log=True)"
   ]
  },
  {
   "cell_type": "code",
   "execution_count": 30,
   "metadata": {},
   "outputs": [
    {
     "data": {
      "text/plain": [
       "<AxesSubplot:>"
      ]
     },
     "execution_count": 30,
     "metadata": {},
     "output_type": "execute_result"
    },
    {
     "data": {
      "image/png": "[encoded data removed]",
      "text/plain": [
       "<Figure size 432x288 with 1 Axes>"
      ]
     },
     "metadata": {
      "needs_background": "light"
     },
     "output_type": "display_data"
    }
   ],
   "source": [
    "## mean\n",
    "res_series = pd.Series(list(res))\n",
    "res_series.hist(log=True) "
   ]
  }
 ],
 "metadata": {
  "kernelspec": {
   "display_name": "Python 3",
   "language": "python",
   "name": "python3"
  },
  "language_info": {
   "codemirror_mode": {
    "name": "ipython",
    "version": 3
   },
   "file_extension": ".py",
   "mimetype": "text/x-python",
   "name": "python",
   "nbconvert_exporter": "python",
   "pygments_lexer": "ipython3",
   "version": "3.8.5"
  }
 },
 "nbformat": 4,
 "nbformat_minor": 4
}
