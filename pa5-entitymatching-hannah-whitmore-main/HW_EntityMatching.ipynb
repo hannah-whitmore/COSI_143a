{
 "cells": [
  {
   "cell_type": "code",
   "execution_count": 1,
   "metadata": {},
   "outputs": [],
   "source": [
    "import pandas as pd\n",
    "from pathlib import Path\n",
    "import fuzzymatcher\n",
    "import recordlinkage\n",
    "import numpy as np\n",
    "import time\n",
    "import math\n",
    "\n",
    "from sklearn.metrics import confusion_matrix\n",
    "from sklearn.metrics import precision_score\n",
    "from sklearn.metrics import recall_score\n",
    "from sklearn.metrics import f1_score"
   ]
  },
  {
   "cell_type": "markdown",
   "metadata": {},
   "source": [
    "# 1. Load Data"
   ]
  },
  {
   "cell_type": "code",
   "execution_count": 2,
   "metadata": {},
   "outputs": [],
   "source": [
    "left_table = pd.read_csv('ltable.csv', encoding = 'latin1')\n",
    "right_table = pd.read_csv('rtable.csv', encoding = 'latin1')"
   ]
  },
  {
   "cell_type": "code",
   "execution_count": 3,
   "metadata": {},
   "outputs": [
    {
     "data": {
      "text/html": [
       "<div>\n",
       "<style scoped>\n",
       "    .dataframe tbody tr th:only-of-type {\n",
       "        vertical-align: middle;\n",
       "    }\n",
       "\n",
       "    .dataframe tbody tr th {\n",
       "        vertical-align: top;\n",
       "    }\n",
       "\n",
       "    .dataframe thead th {\n",
       "        text-align: right;\n",
       "    }\n",
       "</style>\n",
       "<table border=\"1\" class=\"dataframe\">\n",
       "  <thead>\n",
       "    <tr style=\"text-align: right;\">\n",
       "      <th></th>\n",
       "      <th>ltable_id</th>\n",
       "      <th>title</th>\n",
       "      <th>category</th>\n",
       "      <th>brand</th>\n",
       "      <th>modelno</th>\n",
       "      <th>price</th>\n",
       "    </tr>\n",
       "  </thead>\n",
       "  <tbody>\n",
       "    <tr>\n",
       "      <th>0</th>\n",
       "      <td>0</td>\n",
       "      <td>draper infrared remote transmitter</td>\n",
       "      <td>electronics - general</td>\n",
       "      <td>draper</td>\n",
       "      <td>121066</td>\n",
       "      <td>58.45</td>\n",
       "    </tr>\n",
       "    <tr>\n",
       "      <th>1</th>\n",
       "      <td>1</td>\n",
       "      <td>epson 1500 hours 200w uhe projector lamp elplp12</td>\n",
       "      <td>monitors</td>\n",
       "      <td>epson</td>\n",
       "      <td>elplp12</td>\n",
       "      <td>438.84</td>\n",
       "    </tr>\n",
       "    <tr>\n",
       "      <th>2</th>\n",
       "      <td>2</td>\n",
       "      <td>comprehensive two-piece 75 precision bnc jack ...</td>\n",
       "      <td>tv accessories</td>\n",
       "      <td>comprehensive</td>\n",
       "      <td>bj-2c7559</td>\n",
       "      <td>59.25</td>\n",
       "    </tr>\n",
       "    <tr>\n",
       "      <th>3</th>\n",
       "      <td>3</td>\n",
       "      <td>d-link dcs-1100 network camera</td>\n",
       "      <td>garden - general</td>\n",
       "      <td>d-link</td>\n",
       "      <td>dcs-1100</td>\n",
       "      <td>99.82</td>\n",
       "    </tr>\n",
       "    <tr>\n",
       "      <th>4</th>\n",
       "      <td>4</td>\n",
       "      <td>startech.com rkpw247015 24 outlet power strip</td>\n",
       "      <td>electronics - general</td>\n",
       "      <td>startech</td>\n",
       "      <td>rkpw247015</td>\n",
       "      <td>59.00</td>\n",
       "    </tr>\n",
       "  </tbody>\n",
       "</table>\n",
       "</div>"
      ],
      "text/plain": [
       "   ltable_id                                              title  \\\n",
       "0          0                 draper infrared remote transmitter   \n",
       "1          1   epson 1500 hours 200w uhe projector lamp elplp12   \n",
       "2          2  comprehensive two-piece 75 precision bnc jack ...   \n",
       "3          3                     d-link dcs-1100 network camera   \n",
       "4          4      startech.com rkpw247015 24 outlet power strip   \n",
       "\n",
       "                category          brand     modelno   price  \n",
       "0  electronics - general         draper      121066   58.45  \n",
       "1               monitors          epson     elplp12  438.84  \n",
       "2         tv accessories  comprehensive   bj-2c7559   59.25  \n",
       "3       garden - general         d-link    dcs-1100   99.82  \n",
       "4  electronics - general       startech  rkpw247015   59.00  "
      ]
     },
     "execution_count": 3,
     "metadata": {},
     "output_type": "execute_result"
    }
   ],
   "source": [
    "left_table.head()"
   ]
  },
  {
   "cell_type": "code",
   "execution_count": 4,
   "metadata": {},
   "outputs": [
    {
     "data": {
      "text/html": [
       "<div>\n",
       "<style scoped>\n",
       "    .dataframe tbody tr th:only-of-type {\n",
       "        vertical-align: middle;\n",
       "    }\n",
       "\n",
       "    .dataframe tbody tr th {\n",
       "        vertical-align: top;\n",
       "    }\n",
       "\n",
       "    .dataframe thead th {\n",
       "        text-align: right;\n",
       "    }\n",
       "</style>\n",
       "<table border=\"1\" class=\"dataframe\">\n",
       "  <thead>\n",
       "    <tr style=\"text-align: right;\">\n",
       "      <th></th>\n",
       "      <th>rtable_id</th>\n",
       "      <th>title</th>\n",
       "      <th>category</th>\n",
       "      <th>brand</th>\n",
       "      <th>modelno</th>\n",
       "      <th>price</th>\n",
       "    </tr>\n",
       "  </thead>\n",
       "  <tbody>\n",
       "    <tr>\n",
       "      <th>0</th>\n",
       "      <td>0</td>\n",
       "      <td>koss eq50 3-band stereo equalizer</td>\n",
       "      <td>headphone accessories</td>\n",
       "      <td>koss</td>\n",
       "      <td>152132</td>\n",
       "      <td>12.65</td>\n",
       "    </tr>\n",
       "    <tr>\n",
       "      <th>1</th>\n",
       "      <td>1</td>\n",
       "      <td>kodak black ink cartridge 10b 1163641</td>\n",
       "      <td>inkjet printer ink</td>\n",
       "      <td>kodak</td>\n",
       "      <td>1163641</td>\n",
       "      <td>10.28</td>\n",
       "    </tr>\n",
       "    <tr>\n",
       "      <th>2</th>\n",
       "      <td>2</td>\n",
       "      <td>kingston 128mx64 pc2700 compaq evo d320 ktc-d3...</td>\n",
       "      <td>computers accessories</td>\n",
       "      <td>kingston</td>\n",
       "      <td>ktc-d320 / 1g</td>\n",
       "      <td>33.75</td>\n",
       "    </tr>\n",
       "    <tr>\n",
       "      <th>3</th>\n",
       "      <td>3</td>\n",
       "      <td>kinamax ms-ues2 mini high precision usb 3-butt...</td>\n",
       "      <td>mice</td>\n",
       "      <td>kinamax</td>\n",
       "      <td>ms-ues2</td>\n",
       "      <td>6.99</td>\n",
       "    </tr>\n",
       "    <tr>\n",
       "      <th>4</th>\n",
       "      <td>4</td>\n",
       "      <td>kensington k72349us wireless mouse for netbooks</td>\n",
       "      <td>mice</td>\n",
       "      <td>kensington</td>\n",
       "      <td>k72349us</td>\n",
       "      <td>24.00</td>\n",
       "    </tr>\n",
       "  </tbody>\n",
       "</table>\n",
       "</div>"
      ],
      "text/plain": [
       "   rtable_id                                              title  \\\n",
       "0          0                  koss eq50 3-band stereo equalizer   \n",
       "1          1              kodak black ink cartridge 10b 1163641   \n",
       "2          2  kingston 128mx64 pc2700 compaq evo d320 ktc-d3...   \n",
       "3          3  kinamax ms-ues2 mini high precision usb 3-butt...   \n",
       "4          4    kensington k72349us wireless mouse for netbooks   \n",
       "\n",
       "                category       brand        modelno  price  \n",
       "0  headphone accessories        koss         152132  12.65  \n",
       "1     inkjet printer ink       kodak        1163641  10.28  \n",
       "2  computers accessories    kingston  ktc-d320 / 1g  33.75  \n",
       "3                   mice     kinamax        ms-ues2   6.99  \n",
       "4                   mice  kensington       k72349us  24.00  "
      ]
     },
     "execution_count": 4,
     "metadata": {},
     "output_type": "execute_result"
    }
   ],
   "source": [
    "right_table.head()"
   ]
  },
  {
   "cell_type": "markdown",
   "metadata": {},
   "source": [
    "# 2. Entity Matching"
   ]
  },
  {
   "cell_type": "markdown",
   "metadata": {},
   "source": [
    "**Create record linkage, merging on `title`**"
   ]
  },
  {
   "cell_type": "code",
   "execution_count": 5,
   "metadata": {},
   "outputs": [
    {
     "name": "stdout",
     "output_type": "stream",
     "text": [
      "4314\n"
     ]
    }
   ],
   "source": [
    "indexer = recordlinkage.Index()\n",
    "indexer.sortedneighbourhood(['modelno'])\n",
    "candidates = indexer.index(left_table, right_table)\n",
    "print(len(candidates))"
   ]
  },
  {
   "cell_type": "markdown",
   "metadata": {},
   "source": [
    "**Create record linkage comparison**\n",
    "\n",
    "**I tuned the threshold parameter to optimize the f1 score**"
   ]
  },
  {
   "cell_type": "code",
   "execution_count": 6,
   "metadata": {},
   "outputs": [
    {
     "name": "stdout",
     "output_type": "stream",
     "text": [
      "CPU times: user 338 ms, sys: 8.21 ms, total: 346 ms\n",
      "Wall time: 360 ms\n"
     ]
    }
   ],
   "source": [
    "%%time\n",
    "\n",
    "threshold = 0.95\n",
    "\n",
    "compare = recordlinkage.Compare()\n",
    "compare.string('title',\n",
    "               'title',\n",
    "               threshold=threshold,\n",
    "               label='title')\n",
    "\n",
    "compare.string('category',\n",
    "               'category',\n",
    "               threshold=threshold,\n",
    "               label='category')\n",
    "\n",
    "compare.string('brand',\n",
    "               'brand',\n",
    "               threshold=threshold,\n",
    "               label='brand')\n",
    "\n",
    "compare.string('modelno',\n",
    "               'modelno',\n",
    "               threshold=threshold, \n",
    "               label='modelno')\n",
    "\n",
    "compare.numeric('price',\n",
    "               'price',\n",
    "               label='price')\n",
    "\n",
    "features = compare.compute(candidates, \n",
    "                           left_table,\n",
    "                           right_table)"
   ]
  },
  {
   "cell_type": "code",
   "execution_count": 7,
   "metadata": {},
   "outputs": [
    {
     "data": {
      "text/html": [
       "<div>\n",
       "<style scoped>\n",
       "    .dataframe tbody tr th:only-of-type {\n",
       "        vertical-align: middle;\n",
       "    }\n",
       "\n",
       "    .dataframe tbody tr th {\n",
       "        vertical-align: top;\n",
       "    }\n",
       "\n",
       "    .dataframe thead th {\n",
       "        text-align: right;\n",
       "    }\n",
       "</style>\n",
       "<table border=\"1\" class=\"dataframe\">\n",
       "  <thead>\n",
       "    <tr style=\"text-align: right;\">\n",
       "      <th></th>\n",
       "      <th>title</th>\n",
       "      <th>category</th>\n",
       "      <th>brand</th>\n",
       "      <th>modelno</th>\n",
       "      <th>price</th>\n",
       "    </tr>\n",
       "  </thead>\n",
       "  <tbody>\n",
       "    <tr>\n",
       "      <th>0.0</th>\n",
       "      <td>4286.0</td>\n",
       "      <td>4188.0</td>\n",
       "      <td>2421.0</td>\n",
       "      <td>3672.0</td>\n",
       "      <td>3910</td>\n",
       "    </tr>\n",
       "    <tr>\n",
       "      <th>1.0</th>\n",
       "      <td>28.0</td>\n",
       "      <td>126.0</td>\n",
       "      <td>1893.0</td>\n",
       "      <td>642.0</td>\n",
       "      <td>70</td>\n",
       "    </tr>\n",
       "  </tbody>\n",
       "</table>\n",
       "</div>"
      ],
      "text/plain": [
       "      title  category   brand  modelno  price\n",
       "0.0  4286.0    4188.0  2421.0   3672.0   3910\n",
       "1.0    28.0     126.0  1893.0    642.0     70"
      ]
     },
     "execution_count": 7,
     "metadata": {},
     "output_type": "execute_result"
    }
   ],
   "source": [
    "features.apply(pd.Series.value_counts).dropna()"
   ]
  },
  {
   "cell_type": "markdown",
   "metadata": {},
   "source": [
    "**Create score based on summing rows**"
   ]
  },
  {
   "cell_type": "code",
   "execution_count": 8,
   "metadata": {},
   "outputs": [],
   "source": [
    "NUM_FEATURES = len(features.columns)\n",
    "features[\"score\"] = features.sum(axis=1)"
   ]
  },
  {
   "cell_type": "code",
   "execution_count": 9,
   "metadata": {},
   "outputs": [
    {
     "data": {
      "text/html": [
       "<div>\n",
       "<style scoped>\n",
       "    .dataframe tbody tr th:only-of-type {\n",
       "        vertical-align: middle;\n",
       "    }\n",
       "\n",
       "    .dataframe tbody tr th {\n",
       "        vertical-align: top;\n",
       "    }\n",
       "\n",
       "    .dataframe thead th {\n",
       "        text-align: right;\n",
       "    }\n",
       "</style>\n",
       "<table border=\"1\" class=\"dataframe\">\n",
       "  <thead>\n",
       "    <tr style=\"text-align: right;\">\n",
       "      <th></th>\n",
       "      <th>ltable_id</th>\n",
       "      <th>rtable_id</th>\n",
       "      <th>title</th>\n",
       "      <th>category</th>\n",
       "      <th>brand</th>\n",
       "      <th>modelno</th>\n",
       "      <th>price</th>\n",
       "      <th>score</th>\n",
       "    </tr>\n",
       "  </thead>\n",
       "  <tbody>\n",
       "    <tr>\n",
       "      <th>0</th>\n",
       "      <td>0</td>\n",
       "      <td>18637</td>\n",
       "      <td>0.0</td>\n",
       "      <td>0.0</td>\n",
       "      <td>1.0</td>\n",
       "      <td>0.0</td>\n",
       "      <td>0.0</td>\n",
       "      <td>1.0</td>\n",
       "    </tr>\n",
       "    <tr>\n",
       "      <th>1</th>\n",
       "      <td>1</td>\n",
       "      <td>13161</td>\n",
       "      <td>0.0</td>\n",
       "      <td>0.0</td>\n",
       "      <td>1.0</td>\n",
       "      <td>0.0</td>\n",
       "      <td>0.0</td>\n",
       "      <td>1.0</td>\n",
       "    </tr>\n",
       "    <tr>\n",
       "      <th>2</th>\n",
       "      <td>2</td>\n",
       "      <td>1808</td>\n",
       "      <td>0.0</td>\n",
       "      <td>0.0</td>\n",
       "      <td>0.0</td>\n",
       "      <td>0.0</td>\n",
       "      <td>0.0</td>\n",
       "      <td>0.0</td>\n",
       "    </tr>\n",
       "    <tr>\n",
       "      <th>3</th>\n",
       "      <td>3</td>\n",
       "      <td>4377</td>\n",
       "      <td>0.0</td>\n",
       "      <td>0.0</td>\n",
       "      <td>1.0</td>\n",
       "      <td>0.0</td>\n",
       "      <td>0.0</td>\n",
       "      <td>1.0</td>\n",
       "    </tr>\n",
       "    <tr>\n",
       "      <th>4</th>\n",
       "      <td>4</td>\n",
       "      <td>21625</td>\n",
       "      <td>0.0</td>\n",
       "      <td>0.0</td>\n",
       "      <td>0.0</td>\n",
       "      <td>0.0</td>\n",
       "      <td>0.0</td>\n",
       "      <td>0.0</td>\n",
       "    </tr>\n",
       "  </tbody>\n",
       "</table>\n",
       "</div>"
      ],
      "text/plain": [
       "   ltable_id  rtable_id  title  category  brand  modelno  price  score\n",
       "0          0      18637    0.0       0.0    1.0      0.0    0.0    1.0\n",
       "1          1      13161    0.0       0.0    1.0      0.0    0.0    1.0\n",
       "2          2       1808    0.0       0.0    0.0      0.0    0.0    0.0\n",
       "3          3       4377    0.0       0.0    1.0      0.0    0.0    1.0\n",
       "4          4      21625    0.0       0.0    0.0      0.0    0.0    0.0"
      ]
     },
     "execution_count": 9,
     "metadata": {},
     "output_type": "execute_result"
    }
   ],
   "source": [
    "features = (features.reset_index()\n",
    "                   .rename(columns={\"level_0\":\"ltable_id\",\n",
    "                                    \"level_1\":\"rtable_id\"}))\n",
    "features.head()"
   ]
  },
  {
   "cell_type": "markdown",
   "metadata": {},
   "source": [
    "**Predict if IDs are the same if floor(NUM_FEATURES/2) columns are == 1**"
   ]
  },
  {
   "cell_type": "code",
   "execution_count": 10,
   "metadata": {},
   "outputs": [],
   "source": [
    "features['prediction'] = [0]*len(features)\n",
    "features.loc[features.score >= math.floor(NUM_FEATURES/2), 'prediction'] = 1"
   ]
  },
  {
   "cell_type": "code",
   "execution_count": 11,
   "metadata": {},
   "outputs": [
    {
     "data": {
      "text/plain": [
       "0    3701\n",
       "1     613\n",
       "Name: prediction, dtype: int64"
      ]
     },
     "execution_count": 11,
     "metadata": {},
     "output_type": "execute_result"
    }
   ],
   "source": [
    "features[\"prediction\"].value_counts()"
   ]
  },
  {
   "cell_type": "code",
   "execution_count": 12,
   "metadata": {},
   "outputs": [],
   "source": [
    "out_frame = features[['ltable_id', 'rtable_id', 'prediction']]\n",
    "out_frame.to_csv('output.csv')"
   ]
  },
  {
   "cell_type": "markdown",
   "metadata": {},
   "source": [
    "# 3. Prediction"
   ]
  },
  {
   "cell_type": "markdown",
   "metadata": {},
   "source": [
    "**Load data**"
   ]
  },
  {
   "cell_type": "code",
   "execution_count": 13,
   "metadata": {},
   "outputs": [
    {
     "name": "stdout",
     "output_type": "stream",
     "text": [
      "Prediction columns:  ['Unnamed: 0', 'ltable_id', 'rtable_id', 'prediction']\n",
      "Truth columns:  ['ltable_id', 'rtable_id', 'label', 'id']\n"
     ]
    }
   ],
   "source": [
    "prediction = pd.read_csv('output.csv', encoding = 'latin1')\n",
    "truth = pd.read_csv('test.csv', encoding = 'latin1')\n",
    "print(\"Prediction columns: \", list(prediction.columns))\n",
    "print(\"Truth columns: \", list(truth.columns))"
   ]
  },
  {
   "cell_type": "markdown",
   "metadata": {},
   "source": [
    "**Merge (inner) prediction DF on truth DF to get same set of IDs**"
   ]
  },
  {
   "cell_type": "code",
   "execution_count": 14,
   "metadata": {},
   "outputs": [
    {
     "data": {
      "text/html": [
       "<div>\n",
       "<style scoped>\n",
       "    .dataframe tbody tr th:only-of-type {\n",
       "        vertical-align: middle;\n",
       "    }\n",
       "\n",
       "    .dataframe tbody tr th {\n",
       "        vertical-align: top;\n",
       "    }\n",
       "\n",
       "    .dataframe thead th {\n",
       "        text-align: right;\n",
       "    }\n",
       "</style>\n",
       "<table border=\"1\" class=\"dataframe\">\n",
       "  <thead>\n",
       "    <tr style=\"text-align: right;\">\n",
       "      <th></th>\n",
       "      <th>ltable_id</th>\n",
       "      <th>rtable_id</th>\n",
       "      <th>y_pred</th>\n",
       "      <th>y_true</th>\n",
       "    </tr>\n",
       "  </thead>\n",
       "  <tbody>\n",
       "    <tr>\n",
       "      <th>0</th>\n",
       "      <td>16</td>\n",
       "      <td>15183</td>\n",
       "      <td>0</td>\n",
       "      <td>0</td>\n",
       "    </tr>\n",
       "    <tr>\n",
       "      <th>1</th>\n",
       "      <td>21</td>\n",
       "      <td>8915</td>\n",
       "      <td>0</td>\n",
       "      <td>0</td>\n",
       "    </tr>\n",
       "    <tr>\n",
       "      <th>2</th>\n",
       "      <td>29</td>\n",
       "      <td>8070</td>\n",
       "      <td>0</td>\n",
       "      <td>0</td>\n",
       "    </tr>\n",
       "    <tr>\n",
       "      <th>3</th>\n",
       "      <td>50</td>\n",
       "      <td>2013</td>\n",
       "      <td>0</td>\n",
       "      <td>0</td>\n",
       "    </tr>\n",
       "    <tr>\n",
       "      <th>4</th>\n",
       "      <td>61</td>\n",
       "      <td>11091</td>\n",
       "      <td>0</td>\n",
       "      <td>0</td>\n",
       "    </tr>\n",
       "  </tbody>\n",
       "</table>\n",
       "</div>"
      ],
      "text/plain": [
       "   ltable_id  rtable_id  y_pred  y_true\n",
       "0         16      15183       0       0\n",
       "1         21       8915       0       0\n",
       "2         29       8070       0       0\n",
       "3         50       2013       0       0\n",
       "4         61      11091       0       0"
      ]
     },
     "execution_count": 14,
     "metadata": {},
     "output_type": "execute_result"
    }
   ],
   "source": [
    "filt_prediction = (prediction.merge(truth, \n",
    "                            how=\"inner\",\n",
    "                            on=[\"ltable_id\", \"rtable_id\"])\n",
    "                            .rename(columns={\"label\":\"y_true\",\n",
    "                                             \"prediction\":\"y_pred\"})\n",
    "                            [[\"ltable_id\",\"rtable_id\",\"y_pred\",\"y_true\"]])\n",
    "filt_prediction.head()"
   ]
  },
  {
   "cell_type": "code",
   "execution_count": 15,
   "metadata": {},
   "outputs": [],
   "source": [
    "y_true = list(filt_prediction[\"y_true\"])\n",
    "y_pred = list(filt_prediction[\"y_pred\"])"
   ]
  },
  {
   "cell_type": "markdown",
   "metadata": {},
   "source": [
    "**Display f1 score, precision, and recall, false-positive, and false-negative**"
   ]
  },
  {
   "cell_type": "code",
   "execution_count": 16,
   "metadata": {},
   "outputs": [
    {
     "name": "stdout",
     "output_type": "stream",
     "text": [
      "Confusion Matrix with FP (upper right) and FN (lower left)\n"
     ]
    },
    {
     "data": {
      "text/plain": [
       "array([[342,  23],\n",
       "       [ 66, 267]])"
      ]
     },
     "execution_count": 16,
     "metadata": {},
     "output_type": "execute_result"
    }
   ],
   "source": [
    "print(\"Confusion Matrix with FP (upper right) and FN (lower left)\")\n",
    "confusion_matrix(y_true, y_pred)\n",
    "\n",
    "## TP: upper left\n",
    "## TN: lower right\n",
    "## FP: upper right\n",
    "## FN: lower left"
   ]
  },
  {
   "cell_type": "code",
   "execution_count": 17,
   "metadata": {},
   "outputs": [
    {
     "name": "stdout",
     "output_type": "stream",
     "text": [
      "F1 score: 0.8571\n"
     ]
    }
   ],
   "source": [
    "print(\"F1 score:\", round(f1_score(y_true, y_pred),4))"
   ]
  },
  {
   "cell_type": "code",
   "execution_count": 18,
   "metadata": {},
   "outputs": [
    {
     "name": "stdout",
     "output_type": "stream",
     "text": [
      "Precision: 0.9207\n"
     ]
    }
   ],
   "source": [
    "print(\"Precision:\", round(precision_score(y_true, y_pred),4))"
   ]
  },
  {
   "cell_type": "code",
   "execution_count": 19,
   "metadata": {},
   "outputs": [
    {
     "name": "stdout",
     "output_type": "stream",
     "text": [
      "Recall: 0.8018\n"
     ]
    }
   ],
   "source": [
    "print(\"Recall:\", round(recall_score(y_true, y_pred),4))"
   ]
  },
  {
   "cell_type": "markdown",
   "metadata": {},
   "source": [
    "# 4. Summary"
   ]
  },
  {
   "cell_type": "markdown",
   "metadata": {},
   "source": [
    "- In order to be considered a match, I decided the score must be 3 or higher. Of the columns `product name`, `category`, `brand`, `modelno`, and `price`, I decided if product name, brand, and model number match, it is very likely the products are a true match. Though category and price are important, these attributes can be listed differently even if the product is the same. \n",
    "\n",
    "- I knew index blocking would be useful to minimize time and add a filter from the start. I chose to use the the SortedNeighborhood algorithm to minimize false negatives. If there are spelling mistakes in the data, soley blocking would fail because it would exclude potential matches based on these minor spelling mistakes. I used model number as the primary attribute for the index because it is the most specific and unique identifyer of a given product. Although brand and title are also idicative of a match, they could give many false positives since brands carry many similar products. \n",
    "\n",
    "- For the secondary attributes of the comparison, I used category, brand, model number, and price. I considered not includng price because I know that the same product can be priced differently from store to store. However, in tuning the parameters I found including the price resulted in the highest F1 score. \n",
    "\n",
    "- Another parameter I tuned was the threshold for each comparision. String comparisons greater than or equal to this threshold parameter are 1, otherwise 0. In class we used 0.85, but I wondered if increasing this threshold would be benifical. I fonud that using a threshold of 0.95 resulted in the highest F1 measure.\n",
    "\n",
    "- I additionally set that products are considered a match (prediction = 1) if score >= num_features/2 because this enforces that at least half of the features match. "
   ]
  }
 ],
 "metadata": {
  "kernelspec": {
   "display_name": "Python 3",
   "language": "python",
   "name": "python3"
  },
  "language_info": {
   "codemirror_mode": {
    "name": "ipython",
    "version": 3
   },
   "file_extension": ".py",
   "mimetype": "text/x-python",
   "name": "python",
   "nbconvert_exporter": "python",
   "pygments_lexer": "ipython3",
   "version": "3.8.5"
  }
 },
 "nbformat": 4,
 "nbformat_minor": 4
}
